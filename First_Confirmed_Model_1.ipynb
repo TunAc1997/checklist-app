{
  "nbformat": 4,
  "nbformat_minor": 0,
  "metadata": {
    "colab": {
      "provenance": [],
      "history_visible": true,
      "authorship_tag": "ABX9TyOtQb+emvea4M6de5rEe3zv",
      "include_colab_link": true
    },
    "kernelspec": {
      "name": "python3",
      "display_name": "Python 3"
    },
    "language_info": {
      "name": "python"
    }
  },
  "cells": [
    {
      "cell_type": "markdown",
      "metadata": {
        "id": "view-in-github",
        "colab_type": "text"
      },
      "source": [
        "<a href=\"https://colab.research.google.com/github/TunAc1997/checklist-app/blob/main/First_Confirmed_Model_1.ipynb\" target=\"_parent\"><img src=\"https://colab.research.google.com/assets/colab-badge.svg\" alt=\"Open In Colab\"/></a>"
      ]
    },
    {
      "cell_type": "code",
      "execution_count": null,
      "metadata": {
        "colab": {
          "base_uri": "https://localhost:8080/",
          "height": 1000
        },
        "id": "P2fFgpej3W3_",
        "outputId": "1c9a0a3c-d9ca-4456-f3ab-4f7789bafebc"
      },
      "outputs": [
        {
          "output_type": "stream",
          "name": "stdout",
          "text": [
            "\n",
            "===== STEP 1: Google Colab Setup =====\n",
            "Running in Google Colab: True\n",
            "Drive already mounted at /content/drive; to attempt to forcibly remount, call drive.mount(\"/content/drive\", force_remount=True).\n",
            "Google Drive mounted successfully.\n"
          ]
        },
        {
          "output_type": "display_data",
          "data": {
            "text/plain": [
              "<IPython.core.display.Javascript object>"
            ],
            "application/javascript": [
              "\n",
              "        function ClickConnect(){\n",
              "          console.log(\"Clicking connect button\"); \n",
              "          document.querySelector(\"colab-connect-button\").click()\n",
              "        }\n",
              "        setInterval(ClickConnect, 60000)\n",
              "        "
            ]
          },
          "metadata": {}
        },
        {
          "output_type": "stream",
          "name": "stderr",
          "text": [
            "/usr/local/lib/python3.11/dist-packages/torch/optim/lr_scheduler.py:62: UserWarning: The verbose parameter is deprecated. Please use get_last_lr() to access the learning rate.\n",
            "  warnings.warn(\n"
          ]
        },
        {
          "output_type": "stream",
          "name": "stdout",
          "text": [
            "Disconnect prevention enabled.\n",
            "\n",
            "Checking GPU availability:\n",
            "CUDA available: False\n",
            "\n",
            "===== STEP 2: Data Preparation =====\n",
            "Generating sample SDHCAL data...\n",
            "True energy range: 5.0 to 50.0 GeV\n",
            "Number of events: 1000\n",
            "Feature shape: (1000, 3) (N1, N2, N3)\n",
            "\n",
            "Sample data (first 5 events):\n",
            "           N1         N2         N3  Energy (GeV)\n",
            "0  100.372536  50.699678  24.831205           5.0\n",
            "1   99.896302  50.462317  24.963870           5.0\n",
            "2  100.485766  50.029815  24.801895           5.0\n",
            "3  101.142272  49.676532  24.923010           5.0\n",
            "4   99.824385  50.349112  24.526596           5.0\n",
            "\n",
            "===== STEP 3: Model Training =====\n",
            "Using device: cpu\n",
            "Training set size: 800\n",
            "Validation set size: 200\n",
            "\n",
            "Starting model training...\n",
            "Sequential(\n",
            "  (0): Linear(in_features=3, out_features=6, bias=True)\n",
            "  (1): BatchNorm1d(6, eps=1e-05, momentum=0.1, affine=True, track_running_stats=True)\n",
            "  (2): ReLU()\n",
            "  (3): Linear(in_features=6, out_features=2, bias=True)\n",
            "  (4): BatchNorm1d(2, eps=1e-05, momentum=0.1, affine=True, track_running_stats=True)\n",
            "  (5): ReLU()\n",
            "  (6): Linear(in_features=2, out_features=1, bias=True)\n",
            ")\n"
          ]
        },
        {
          "output_type": "stream",
          "name": "stderr",
          "text": [
            "Epoch 1/100 [Train]: 100%|██████████| 25/25 [00:00<00:00, 142.56it/s, loss=1.35]\n",
            "Epoch 1/100 [Val]: 100%|██████████| 7/7 [00:00<00:00, 286.71it/s, loss=1.05]\n"
          ]
        },
        {
          "output_type": "stream",
          "name": "stdout",
          "text": [
            "Epoch 1/100 - Train Loss: 1.313062, Val Loss: 1.141892\n",
            "Model saved at epoch 1 with validation loss: 1.141892\n"
          ]
        },
        {
          "output_type": "stream",
          "name": "stderr",
          "text": [
            "Epoch 2/100 [Train]: 100%|██████████| 25/25 [00:00<00:00, 106.96it/s, loss=1.07]\n",
            "Epoch 2/100 [Val]: 100%|██████████| 7/7 [00:00<00:00, 202.28it/s, loss=1]\n"
          ]
        },
        {
          "output_type": "stream",
          "name": "stdout",
          "text": [
            "Epoch 2/100 - Train Loss: 1.245628, Val Loss: 1.087298\n",
            "Model saved at epoch 2 with validation loss: 1.087298\n"
          ]
        },
        {
          "output_type": "stream",
          "name": "stderr",
          "text": [
            "Epoch 3/100 [Train]: 100%|██████████| 25/25 [00:00<00:00, 122.19it/s, loss=0.978]\n",
            "Epoch 3/100 [Val]: 100%|██████████| 7/7 [00:00<00:00, 202.33it/s, loss=0.848]\n"
          ]
        },
        {
          "output_type": "stream",
          "name": "stdout",
          "text": [
            "Epoch 3/100 - Train Loss: 1.072609, Val Loss: 0.932287\n",
            "Model saved at epoch 3 with validation loss: 0.932287\n"
          ]
        },
        {
          "output_type": "stream",
          "name": "stderr",
          "text": [
            "Epoch 4/100 [Train]: 100%|██████████| 25/25 [00:00<00:00, 100.02it/s, loss=0.71]\n",
            "Epoch 4/100 [Val]: 100%|██████████| 7/7 [00:00<00:00, 165.69it/s, loss=0.703]\n"
          ]
        },
        {
          "output_type": "stream",
          "name": "stdout",
          "text": [
            "Epoch 4/100 - Train Loss: 0.885025, Val Loss: 0.844919\n",
            "Model saved at epoch 4 with validation loss: 0.844919\n"
          ]
        },
        {
          "output_type": "stream",
          "name": "stderr",
          "text": [
            "Epoch 5/100 [Train]: 100%|██████████| 25/25 [00:00<00:00, 88.26it/s, loss=0.888]\n",
            "Epoch 5/100 [Val]: 100%|██████████| 7/7 [00:00<00:00, 215.35it/s, loss=0.674]\n"
          ]
        },
        {
          "output_type": "stream",
          "name": "stdout",
          "text": [
            "Epoch 5/100 - Train Loss: 0.850310, Val Loss: 0.830049\n",
            "Model saved at epoch 5 with validation loss: 0.830049\n"
          ]
        },
        {
          "output_type": "stream",
          "name": "stderr",
          "text": [
            "Epoch 6/100 [Train]: 100%|██████████| 25/25 [00:00<00:00, 97.98it/s, loss=0.954]\n",
            "Epoch 6/100 [Val]: 100%|██████████| 7/7 [00:00<00:00, 223.61it/s, loss=0.595]\n"
          ]
        },
        {
          "output_type": "stream",
          "name": "stdout",
          "text": [
            "Epoch 6/100 - Train Loss: 0.811172, Val Loss: 0.782232\n",
            "Model saved at epoch 6 with validation loss: 0.782232\n"
          ]
        },
        {
          "output_type": "stream",
          "name": "stderr",
          "text": [
            "Epoch 7/100 [Train]: 100%|██████████| 25/25 [00:00<00:00, 104.89it/s, loss=0.646]\n",
            "Epoch 7/100 [Val]: 100%|██████████| 7/7 [00:00<00:00, 261.56it/s, loss=0.526]\n"
          ]
        },
        {
          "output_type": "stream",
          "name": "stdout",
          "text": [
            "Epoch 7/100 - Train Loss: 0.767173, Val Loss: 0.736933\n",
            "Model saved at epoch 7 with validation loss: 0.736933\n"
          ]
        },
        {
          "output_type": "stream",
          "name": "stderr",
          "text": [
            "Epoch 8/100 [Train]: 100%|██████████| 25/25 [00:00<00:00, 113.34it/s, loss=1.04]\n",
            "Epoch 8/100 [Val]: 100%|██████████| 7/7 [00:00<00:00, 353.83it/s, loss=0.483]\n"
          ]
        },
        {
          "output_type": "stream",
          "name": "stdout",
          "text": [
            "Epoch 8/100 - Train Loss: 0.722951, Val Loss: 0.709717\n",
            "Model saved at epoch 8 with validation loss: 0.709717\n"
          ]
        },
        {
          "output_type": "stream",
          "name": "stderr",
          "text": [
            "Epoch 9/100 [Train]: 100%|██████████| 25/25 [00:00<00:00, 129.83it/s, loss=0.692]\n",
            "Epoch 9/100 [Val]: 100%|██████████| 7/7 [00:00<00:00, 148.54it/s, loss=0.422]\n"
          ]
        },
        {
          "output_type": "stream",
          "name": "stdout",
          "text": [
            "Epoch 9/100 - Train Loss: 0.682978, Val Loss: 0.666323\n",
            "Model saved at epoch 9 with validation loss: 0.666323\n"
          ]
        },
        {
          "output_type": "stream",
          "name": "stderr",
          "text": [
            "Epoch 10/100 [Train]: 100%|██████████| 25/25 [00:00<00:00, 138.17it/s, loss=0.688]\n",
            "Epoch 10/100 [Val]: 100%|██████████| 7/7 [00:00<00:00, 285.56it/s, loss=0.342]\n"
          ]
        },
        {
          "output_type": "stream",
          "name": "stdout",
          "text": [
            "Epoch 10/100 - Train Loss: 0.639814, Val Loss: 0.612250\n",
            "Model saved at epoch 10 with validation loss: 0.612250\n"
          ]
        },
        {
          "output_type": "stream",
          "name": "stderr",
          "text": [
            "Epoch 11/100 [Train]: 100%|██████████| 25/25 [00:00<00:00, 99.36it/s, loss=0.604] \n",
            "Epoch 11/100 [Val]: 100%|██████████| 7/7 [00:00<00:00, 218.71it/s, loss=0.318]\n"
          ]
        },
        {
          "output_type": "stream",
          "name": "stdout",
          "text": [
            "Epoch 11/100 - Train Loss: 0.602281, Val Loss: 0.587455\n",
            "Model saved at epoch 11 with validation loss: 0.587455\n"
          ]
        },
        {
          "output_type": "stream",
          "name": "stderr",
          "text": [
            "Epoch 12/100 [Train]: 100%|██████████| 25/25 [00:00<00:00, 114.49it/s, loss=0.319]\n",
            "Epoch 12/100 [Val]: 100%|██████████| 7/7 [00:00<00:00, 194.30it/s, loss=0.25]\n"
          ]
        },
        {
          "output_type": "stream",
          "name": "stdout",
          "text": [
            "Epoch 12/100 - Train Loss: 0.552548, Val Loss: 0.536576\n",
            "Model saved at epoch 12 with validation loss: 0.536576\n"
          ]
        },
        {
          "output_type": "stream",
          "name": "stderr",
          "text": [
            "Epoch 13/100 [Train]: 100%|██████████| 25/25 [00:00<00:00, 72.05it/s, loss=0.521]\n",
            "Epoch 13/100 [Val]: 100%|██████████| 7/7 [00:00<00:00, 248.90it/s, loss=0.194]\n"
          ]
        },
        {
          "output_type": "stream",
          "name": "stdout",
          "text": [
            "Epoch 13/100 - Train Loss: 0.508943, Val Loss: 0.491689\n",
            "Model saved at epoch 13 with validation loss: 0.491689\n"
          ]
        },
        {
          "output_type": "stream",
          "name": "stderr",
          "text": [
            "Epoch 14/100 [Train]: 100%|██████████| 25/25 [00:00<00:00, 83.97it/s, loss=0.47]\n",
            "Epoch 14/100 [Val]: 100%|██████████| 7/7 [00:00<00:00, 203.20it/s, loss=0.135]\n"
          ]
        },
        {
          "output_type": "stream",
          "name": "stdout",
          "text": [
            "Epoch 14/100 - Train Loss: 0.476387, Val Loss: 0.443175\n",
            "Model saved at epoch 14 with validation loss: 0.443175\n"
          ]
        },
        {
          "output_type": "stream",
          "name": "stderr",
          "text": [
            "Epoch 15/100 [Train]: 100%|██████████| 25/25 [00:00<00:00, 99.77it/s, loss=0.393] \n",
            "Epoch 15/100 [Val]: 100%|██████████| 7/7 [00:00<00:00, 193.88it/s, loss=0.109]\n"
          ]
        },
        {
          "output_type": "stream",
          "name": "stdout",
          "text": [
            "Epoch 15/100 - Train Loss: 0.437795, Val Loss: 0.413495\n",
            "Model saved at epoch 15 with validation loss: 0.413495\n"
          ]
        },
        {
          "output_type": "stream",
          "name": "stderr",
          "text": [
            "Epoch 16/100 [Train]: 100%|██████████| 25/25 [00:00<00:00, 105.78it/s, loss=0.463]\n",
            "Epoch 16/100 [Val]: 100%|██████████| 7/7 [00:00<00:00, 193.53it/s, loss=0.101]\n"
          ]
        },
        {
          "output_type": "stream",
          "name": "stdout",
          "text": [
            "Epoch 16/100 - Train Loss: 0.403385, Val Loss: 0.393831\n",
            "Model saved at epoch 16 with validation loss: 0.393831\n"
          ]
        },
        {
          "output_type": "stream",
          "name": "stderr",
          "text": [
            "Epoch 17/100 [Train]: 100%|██████████| 25/25 [00:00<00:00, 54.16it/s, loss=0.255]\n",
            "Epoch 17/100 [Val]: 100%|██████████| 7/7 [00:00<00:00, 73.56it/s, loss=0.0652]\n"
          ]
        },
        {
          "output_type": "stream",
          "name": "stdout",
          "text": [
            "Epoch 17/100 - Train Loss: 0.381276, Val Loss: 0.357967\n",
            "Model saved at epoch 17 with validation loss: 0.357967\n"
          ]
        },
        {
          "output_type": "stream",
          "name": "stderr",
          "text": [
            "Epoch 18/100 [Train]: 100%|██████████| 25/25 [00:00<00:00, 105.34it/s, loss=0.289]\n",
            "Epoch 18/100 [Val]: 100%|██████████| 7/7 [00:00<00:00, 205.44it/s, loss=0.046]\n"
          ]
        },
        {
          "output_type": "stream",
          "name": "stdout",
          "text": [
            "Epoch 18/100 - Train Loss: 0.361322, Val Loss: 0.331842\n",
            "Model saved at epoch 18 with validation loss: 0.331842\n"
          ]
        },
        {
          "output_type": "stream",
          "name": "stderr",
          "text": [
            "Epoch 19/100 [Train]: 100%|██████████| 25/25 [00:00<00:00, 78.22it/s, loss=0.149]\n",
            "Epoch 19/100 [Val]: 100%|██████████| 7/7 [00:00<00:00, 204.34it/s, loss=0.0461]\n"
          ]
        },
        {
          "output_type": "stream",
          "name": "stdout",
          "text": [
            "Epoch 19/100 - Train Loss: 0.328192, Val Loss: 0.316776\n",
            "Model saved at epoch 19 with validation loss: 0.316776\n"
          ]
        },
        {
          "output_type": "stream",
          "name": "stderr",
          "text": [
            "Epoch 20/100 [Train]: 100%|██████████| 25/25 [00:00<00:00, 98.01it/s, loss=0.113] \n",
            "Epoch 20/100 [Val]: 100%|██████████| 7/7 [00:00<00:00, 72.89it/s, loss=0.0335]\n"
          ]
        },
        {
          "output_type": "stream",
          "name": "stdout",
          "text": [
            "Epoch 20/100 - Train Loss: 0.320923, Val Loss: 0.296601\n",
            "Model saved at epoch 20 with validation loss: 0.296601\n"
          ]
        },
        {
          "output_type": "stream",
          "name": "stderr",
          "text": [
            "Epoch 21/100 [Train]: 100%|██████████| 25/25 [00:00<00:00, 69.31it/s, loss=0.303]\n",
            "Epoch 21/100 [Val]: 100%|██████████| 7/7 [00:00<00:00, 189.72it/s, loss=0.0302]\n"
          ]
        },
        {
          "output_type": "stream",
          "name": "stdout",
          "text": [
            "Epoch 21/100 - Train Loss: 0.290304, Val Loss: 0.282443\n",
            "Model saved at epoch 21 with validation loss: 0.282443\n"
          ]
        },
        {
          "output_type": "stream",
          "name": "stderr",
          "text": [
            "Epoch 22/100 [Train]: 100%|██████████| 25/25 [00:00<00:00, 88.01it/s, loss=0.189]\n",
            "Epoch 22/100 [Val]: 100%|██████████| 7/7 [00:00<00:00, 182.17it/s, loss=0.0211]\n"
          ]
        },
        {
          "output_type": "stream",
          "name": "stdout",
          "text": [
            "Epoch 22/100 - Train Loss: 0.275058, Val Loss: 0.265646\n",
            "Model saved at epoch 22 with validation loss: 0.265646\n"
          ]
        },
        {
          "output_type": "stream",
          "name": "stderr",
          "text": [
            "Epoch 23/100 [Train]: 100%|██████████| 25/25 [00:00<00:00, 99.53it/s, loss=0.341] \n",
            "Epoch 23/100 [Val]: 100%|██████████| 7/7 [00:00<00:00, 152.13it/s, loss=0.0115]\n"
          ]
        },
        {
          "output_type": "stream",
          "name": "stdout",
          "text": [
            "Epoch 23/100 - Train Loss: 0.263313, Val Loss: 0.249182\n",
            "Model saved at epoch 23 with validation loss: 0.249182\n"
          ]
        },
        {
          "output_type": "stream",
          "name": "stderr",
          "text": [
            "Epoch 24/100 [Train]: 100%|██████████| 25/25 [00:00<00:00, 114.69it/s, loss=0.342]\n",
            "Epoch 24/100 [Val]: 100%|██████████| 7/7 [00:00<00:00, 261.15it/s, loss=0.0138]\n"
          ]
        },
        {
          "output_type": "stream",
          "name": "stdout",
          "text": [
            "Epoch 24/100 - Train Loss: 0.251584, Val Loss: 0.239889\n",
            "Model saved at epoch 24 with validation loss: 0.239889\n"
          ]
        },
        {
          "output_type": "stream",
          "name": "stderr",
          "text": [
            "Epoch 25/100 [Train]: 100%|██████████| 25/25 [00:00<00:00, 114.62it/s, loss=0.238]\n",
            "Epoch 25/100 [Val]: 100%|██████████| 7/7 [00:00<00:00, 213.92it/s, loss=0.00888]\n"
          ]
        },
        {
          "output_type": "stream",
          "name": "stdout",
          "text": [
            "Epoch 25/100 - Train Loss: 0.237743, Val Loss: 0.226999\n",
            "Model saved at epoch 25 with validation loss: 0.226999\n"
          ]
        },
        {
          "output_type": "stream",
          "name": "stderr",
          "text": [
            "Epoch 26/100 [Train]: 100%|██████████| 25/25 [00:00<00:00, 104.69it/s, loss=0.216]\n",
            "Epoch 26/100 [Val]: 100%|██████████| 7/7 [00:00<00:00, 129.28it/s, loss=0.00929]\n"
          ]
        },
        {
          "output_type": "stream",
          "name": "stdout",
          "text": [
            "Epoch 26/100 - Train Loss: 0.224450, Val Loss: 0.217982\n",
            "Model saved at epoch 26 with validation loss: 0.217982\n"
          ]
        },
        {
          "output_type": "stream",
          "name": "stderr",
          "text": [
            "Epoch 27/100 [Train]: 100%|██████████| 25/25 [00:00<00:00, 99.49it/s, loss=0.18] \n",
            "Epoch 27/100 [Val]: 100%|██████████| 7/7 [00:00<00:00, 221.33it/s, loss=0.00291]\n"
          ]
        },
        {
          "output_type": "stream",
          "name": "stdout",
          "text": [
            "Epoch 27/100 - Train Loss: 0.218819, Val Loss: 0.204820\n",
            "Model saved at epoch 27 with validation loss: 0.204820\n"
          ]
        },
        {
          "output_type": "stream",
          "name": "stderr",
          "text": [
            "Epoch 28/100 [Train]: 100%|██████████| 25/25 [00:00<00:00, 96.10it/s, loss=0.202]\n",
            "Epoch 28/100 [Val]: 100%|██████████| 7/7 [00:00<00:00, 453.66it/s, loss=0.00504]\n"
          ]
        },
        {
          "output_type": "stream",
          "name": "stdout",
          "text": [
            "Epoch 28/100 - Train Loss: 0.210983, Val Loss: 0.197520\n",
            "Model saved at epoch 28 with validation loss: 0.197520\n"
          ]
        },
        {
          "output_type": "stream",
          "name": "stderr",
          "text": [
            "Epoch 29/100 [Train]: 100%|██████████| 25/25 [00:00<00:00, 125.36it/s, loss=0.221]\n",
            "Epoch 29/100 [Val]: 100%|██████████| 7/7 [00:00<00:00, 225.00it/s, loss=0.00626]\n"
          ]
        },
        {
          "output_type": "stream",
          "name": "stdout",
          "text": [
            "Epoch 29/100 - Train Loss: 0.203228, Val Loss: 0.190115\n",
            "Model saved at epoch 29 with validation loss: 0.190115\n"
          ]
        },
        {
          "output_type": "stream",
          "name": "stderr",
          "text": [
            "Epoch 30/100 [Train]: 100%|██████████| 25/25 [00:00<00:00, 118.23it/s, loss=0.18]\n",
            "Epoch 30/100 [Val]: 100%|██████████| 7/7 [00:00<00:00, 404.38it/s, loss=0.00555]\n"
          ]
        },
        {
          "output_type": "stream",
          "name": "stdout",
          "text": [
            "Epoch 30/100 - Train Loss: 0.210649, Val Loss: 0.182262\n",
            "Model saved at epoch 30 with validation loss: 0.182262\n"
          ]
        },
        {
          "output_type": "stream",
          "name": "stderr",
          "text": [
            "Epoch 31/100 [Train]: 100%|██████████| 25/25 [00:00<00:00, 89.05it/s, loss=0.207]\n",
            "Epoch 31/100 [Val]: 100%|██████████| 7/7 [00:00<00:00, 148.76it/s, loss=0.00047]\n"
          ]
        },
        {
          "output_type": "stream",
          "name": "stdout",
          "text": [
            "Epoch 31/100 - Train Loss: 0.187634, Val Loss: 0.171669\n",
            "Model saved at epoch 31 with validation loss: 0.171669\n"
          ]
        },
        {
          "output_type": "stream",
          "name": "stderr",
          "text": [
            "Epoch 32/100 [Train]: 100%|██████████| 25/25 [00:00<00:00, 81.44it/s, loss=0.248]\n",
            "Epoch 32/100 [Val]: 100%|██████████| 7/7 [00:00<00:00, 143.53it/s, loss=0.00526]\n"
          ]
        },
        {
          "output_type": "stream",
          "name": "stdout",
          "text": [
            "Epoch 32/100 - Train Loss: 0.174863, Val Loss: 0.167740\n",
            "Model saved at epoch 32 with validation loss: 0.167740\n"
          ]
        },
        {
          "output_type": "stream",
          "name": "stderr",
          "text": [
            "Epoch 33/100 [Train]: 100%|██████████| 25/25 [00:00<00:00, 80.73it/s, loss=0.0811]\n",
            "Epoch 33/100 [Val]: 100%|██████████| 7/7 [00:00<00:00, 166.83it/s, loss=0.00543]\n"
          ]
        },
        {
          "output_type": "stream",
          "name": "stdout",
          "text": [
            "Epoch 33/100 - Train Loss: 0.171899, Val Loss: 0.161264\n",
            "Model saved at epoch 33 with validation loss: 0.161264\n"
          ]
        },
        {
          "output_type": "stream",
          "name": "stderr",
          "text": [
            "Epoch 34/100 [Train]: 100%|██████████| 25/25 [00:00<00:00, 174.92it/s, loss=0.225]\n",
            "Epoch 34/100 [Val]: 100%|██████████| 7/7 [00:00<00:00, 247.93it/s, loss=0.00708]\n"
          ]
        },
        {
          "output_type": "stream",
          "name": "stdout",
          "text": [
            "Epoch 34/100 - Train Loss: 0.165134, Val Loss: 0.156232\n",
            "Model saved at epoch 34 with validation loss: 0.156232\n"
          ]
        },
        {
          "output_type": "stream",
          "name": "stderr",
          "text": [
            "Epoch 35/100 [Train]: 100%|██████████| 25/25 [00:00<00:00, 139.57it/s, loss=0.139]\n",
            "Epoch 35/100 [Val]: 100%|██████████| 7/7 [00:00<00:00, 250.19it/s, loss=0.00614]\n"
          ]
        },
        {
          "output_type": "stream",
          "name": "stdout",
          "text": [
            "Epoch 35/100 - Train Loss: 0.172080, Val Loss: 0.149692\n",
            "Model saved at epoch 35 with validation loss: 0.149692\n"
          ]
        },
        {
          "output_type": "stream",
          "name": "stderr",
          "text": [
            "Epoch 36/100 [Train]: 100%|██████████| 25/25 [00:00<00:00, 135.18it/s, loss=0.161]\n",
            "Epoch 36/100 [Val]: 100%|██████████| 7/7 [00:00<00:00, 217.61it/s, loss=0.0118]\n"
          ]
        },
        {
          "output_type": "stream",
          "name": "stdout",
          "text": [
            "Epoch 36/100 - Train Loss: 0.154047, Val Loss: 0.147798\n",
            "Model saved at epoch 36 with validation loss: 0.147798\n"
          ]
        },
        {
          "output_type": "stream",
          "name": "stderr",
          "text": [
            "Epoch 37/100 [Train]: 100%|██████████| 25/25 [00:00<00:00, 164.48it/s, loss=0.222]\n",
            "Epoch 37/100 [Val]: 100%|██████████| 7/7 [00:00<00:00, 374.64it/s, loss=0.0129]\n"
          ]
        },
        {
          "output_type": "stream",
          "name": "stdout",
          "text": [
            "Epoch 37/100 - Train Loss: 0.151665, Val Loss: 0.143736\n",
            "Model saved at epoch 37 with validation loss: 0.143736\n"
          ]
        },
        {
          "output_type": "stream",
          "name": "stderr",
          "text": [
            "Epoch 38/100 [Train]: 100%|██████████| 25/25 [00:00<00:00, 113.51it/s, loss=0.0861]\n",
            "Epoch 38/100 [Val]: 100%|██████████| 7/7 [00:00<00:00, 210.69it/s, loss=0.00346]\n"
          ]
        },
        {
          "output_type": "stream",
          "name": "stdout",
          "text": [
            "Epoch 38/100 - Train Loss: 0.163011, Val Loss: 0.131991\n",
            "Model saved at epoch 38 with validation loss: 0.131991\n"
          ]
        },
        {
          "output_type": "stream",
          "name": "stderr",
          "text": [
            "Epoch 39/100 [Train]: 100%|██████████| 25/25 [00:00<00:00, 142.19it/s, loss=0.0974]\n",
            "Epoch 39/100 [Val]: 100%|██████████| 7/7 [00:00<00:00, 208.99it/s, loss=0.00454]\n"
          ]
        },
        {
          "output_type": "stream",
          "name": "stdout",
          "text": [
            "Epoch 39/100 - Train Loss: 0.139678, Val Loss: 0.127615\n",
            "Model saved at epoch 39 with validation loss: 0.127615\n"
          ]
        },
        {
          "output_type": "stream",
          "name": "stderr",
          "text": [
            "Epoch 40/100 [Train]: 100%|██████████| 25/25 [00:00<00:00, 125.98it/s, loss=0.108]\n",
            "Epoch 40/100 [Val]: 100%|██████████| 7/7 [00:00<00:00, 247.23it/s, loss=0.00659]\n"
          ]
        },
        {
          "output_type": "stream",
          "name": "stdout",
          "text": [
            "Epoch 40/100 - Train Loss: 0.139755, Val Loss: 0.124100\n",
            "Model saved at epoch 40 with validation loss: 0.124100\n"
          ]
        },
        {
          "output_type": "stream",
          "name": "stderr",
          "text": [
            "Epoch 41/100 [Train]: 100%|██████████| 25/25 [00:00<00:00, 89.03it/s, loss=0.0841]\n",
            "Epoch 41/100 [Val]: 100%|██████████| 7/7 [00:00<00:00, 161.34it/s, loss=0.00928]\n"
          ]
        },
        {
          "output_type": "stream",
          "name": "stdout",
          "text": [
            "Epoch 41/100 - Train Loss: 0.130344, Val Loss: 0.121611\n",
            "Model saved at epoch 41 with validation loss: 0.121611\n"
          ]
        },
        {
          "output_type": "stream",
          "name": "stderr",
          "text": [
            "Epoch 42/100 [Train]: 100%|██████████| 25/25 [00:00<00:00, 74.96it/s, loss=0.146]\n",
            "Epoch 42/100 [Val]: 100%|██████████| 7/7 [00:00<00:00, 115.26it/s, loss=0.00359]\n"
          ]
        },
        {
          "output_type": "stream",
          "name": "stdout",
          "text": [
            "Epoch 42/100 - Train Loss: 0.129309, Val Loss: 0.113513\n",
            "Model saved at epoch 42 with validation loss: 0.113513\n"
          ]
        },
        {
          "output_type": "stream",
          "name": "stderr",
          "text": [
            "Epoch 43/100 [Train]: 100%|██████████| 25/25 [00:00<00:00, 70.80it/s, loss=0.15]\n",
            "Epoch 43/100 [Val]: 100%|██████████| 7/7 [00:00<00:00, 195.63it/s, loss=0.00538]\n"
          ]
        },
        {
          "output_type": "stream",
          "name": "stdout",
          "text": [
            "Epoch 43/100 - Train Loss: 0.128502, Val Loss: 0.110424\n",
            "Model saved at epoch 43 with validation loss: 0.110424\n"
          ]
        },
        {
          "output_type": "stream",
          "name": "stderr",
          "text": [
            "Epoch 44/100 [Train]: 100%|██████████| 25/25 [00:00<00:00, 191.54it/s, loss=0.131]\n",
            "Epoch 44/100 [Val]: 100%|██████████| 7/7 [00:00<00:00, 426.63it/s, loss=0.00437]\n"
          ]
        },
        {
          "output_type": "stream",
          "name": "stdout",
          "text": [
            "Epoch 44/100 - Train Loss: 0.131846, Val Loss: 0.106002\n",
            "Model saved at epoch 44 with validation loss: 0.106002\n"
          ]
        },
        {
          "output_type": "stream",
          "name": "stderr",
          "text": [
            "Epoch 45/100 [Train]: 100%|██████████| 25/25 [00:00<00:00, 200.67it/s, loss=0.179]\n",
            "Epoch 45/100 [Val]: 100%|██████████| 7/7 [00:00<00:00, 383.37it/s, loss=0.0135]\n"
          ]
        },
        {
          "output_type": "stream",
          "name": "stdout",
          "text": [
            "Epoch 45/100 - Train Loss: 0.121395, Val Loss: 0.108519\n"
          ]
        },
        {
          "output_type": "stream",
          "name": "stderr",
          "text": [
            "Epoch 46/100 [Train]: 100%|██████████| 25/25 [00:00<00:00, 199.01it/s, loss=0.209]\n",
            "Epoch 46/100 [Val]: 100%|██████████| 7/7 [00:00<00:00, 308.53it/s, loss=0.00175]\n"
          ]
        },
        {
          "output_type": "stream",
          "name": "stdout",
          "text": [
            "Epoch 46/100 - Train Loss: 0.131863, Val Loss: 0.097575\n",
            "Model saved at epoch 46 with validation loss: 0.097575\n"
          ]
        },
        {
          "output_type": "stream",
          "name": "stderr",
          "text": [
            "Epoch 47/100 [Train]: 100%|██████████| 25/25 [00:00<00:00, 229.94it/s, loss=0.126]\n",
            "Epoch 47/100 [Val]: 100%|██████████| 7/7 [00:00<00:00, 304.98it/s, loss=0.00743]\n"
          ]
        },
        {
          "output_type": "stream",
          "name": "stdout",
          "text": [
            "Epoch 47/100 - Train Loss: 0.118948, Val Loss: 0.097752\n"
          ]
        },
        {
          "output_type": "stream",
          "name": "stderr",
          "text": [
            "Epoch 48/100 [Train]: 100%|██████████| 25/25 [00:00<00:00, 191.60it/s, loss=0.0921]\n",
            "Epoch 48/100 [Val]: 100%|██████████| 7/7 [00:00<00:00, 467.44it/s, loss=0.003]\n"
          ]
        },
        {
          "output_type": "stream",
          "name": "stdout",
          "text": [
            "Epoch 48/100 - Train Loss: 0.116154, Val Loss: 0.091535\n",
            "Model saved at epoch 48 with validation loss: 0.091535\n"
          ]
        },
        {
          "output_type": "stream",
          "name": "stderr",
          "text": [
            "Epoch 49/100 [Train]: 100%|██████████| 25/25 [00:00<00:00, 214.13it/s, loss=0.11]\n",
            "Epoch 49/100 [Val]: 100%|██████████| 7/7 [00:00<00:00, 466.31it/s, loss=0.00127]\n"
          ]
        },
        {
          "output_type": "stream",
          "name": "stdout",
          "text": [
            "Epoch 49/100 - Train Loss: 0.133578, Val Loss: 0.087611\n",
            "Model saved at epoch 49 with validation loss: 0.087611\n"
          ]
        },
        {
          "output_type": "stream",
          "name": "stderr",
          "text": [
            "Epoch 50/100 [Train]: 100%|██████████| 25/25 [00:00<00:00, 196.86it/s, loss=0.0732]\n",
            "Epoch 50/100 [Val]: 100%|██████████| 7/7 [00:00<00:00, 504.37it/s, loss=0.00956]\n"
          ]
        },
        {
          "output_type": "stream",
          "name": "stdout",
          "text": [
            "Epoch 50/100 - Train Loss: 0.106927, Val Loss: 0.089895\n"
          ]
        },
        {
          "output_type": "stream",
          "name": "stderr",
          "text": [
            "Epoch 51/100 [Train]: 100%|██████████| 25/25 [00:00<00:00, 199.01it/s, loss=0.0691]\n",
            "Epoch 51/100 [Val]: 100%|██████████| 7/7 [00:00<00:00, 449.32it/s, loss=0.00348]\n"
          ]
        },
        {
          "output_type": "stream",
          "name": "stdout",
          "text": [
            "Epoch 51/100 - Train Loss: 0.102252, Val Loss: 0.083294\n",
            "Model saved at epoch 51 with validation loss: 0.083294\n"
          ]
        },
        {
          "output_type": "stream",
          "name": "stderr",
          "text": [
            "Epoch 52/100 [Train]: 100%|██████████| 25/25 [00:00<00:00, 219.64it/s, loss=0.105]\n",
            "Epoch 52/100 [Val]: 100%|██████████| 7/7 [00:00<00:00, 301.57it/s, loss=0.00248]\n"
          ]
        },
        {
          "output_type": "stream",
          "name": "stdout",
          "text": [
            "Epoch 52/100 - Train Loss: 0.094563, Val Loss: 0.079892\n",
            "Model saved at epoch 52 with validation loss: 0.079892\n"
          ]
        },
        {
          "output_type": "stream",
          "name": "stderr",
          "text": [
            "Epoch 53/100 [Train]: 100%|██████████| 25/25 [00:00<00:00, 209.95it/s, loss=0.073]\n",
            "Epoch 53/100 [Val]: 100%|██████████| 7/7 [00:00<00:00, 474.70it/s, loss=0.0153]\n"
          ]
        },
        {
          "output_type": "stream",
          "name": "stdout",
          "text": [
            "Epoch 53/100 - Train Loss: 0.101031, Val Loss: 0.085737\n"
          ]
        },
        {
          "output_type": "stream",
          "name": "stderr",
          "text": [
            "Epoch 54/100 [Train]: 100%|██████████| 25/25 [00:00<00:00, 221.87it/s, loss=0.0855]\n",
            "Epoch 54/100 [Val]: 100%|██████████| 7/7 [00:00<00:00, 419.87it/s, loss=0.00557]\n"
          ]
        },
        {
          "output_type": "stream",
          "name": "stdout",
          "text": [
            "Epoch 54/100 - Train Loss: 0.104767, Val Loss: 0.076843\n",
            "Model saved at epoch 54 with validation loss: 0.076843\n"
          ]
        },
        {
          "output_type": "stream",
          "name": "stderr",
          "text": [
            "Epoch 55/100 [Train]: 100%|██████████| 25/25 [00:00<00:00, 213.83it/s, loss=0.0626]\n",
            "Epoch 55/100 [Val]: 100%|██████████| 7/7 [00:00<00:00, 445.44it/s, loss=0.00572]\n"
          ]
        },
        {
          "output_type": "stream",
          "name": "stdout",
          "text": [
            "Epoch 55/100 - Train Loss: 0.090084, Val Loss: 0.074609\n",
            "Model saved at epoch 55 with validation loss: 0.074609\n"
          ]
        },
        {
          "output_type": "stream",
          "name": "stderr",
          "text": [
            "Epoch 56/100 [Train]: 100%|██████████| 25/25 [00:00<00:00, 204.71it/s, loss=0.122]\n",
            "Epoch 56/100 [Val]: 100%|██████████| 7/7 [00:00<00:00, 370.55it/s, loss=0.00174]\n"
          ]
        },
        {
          "output_type": "stream",
          "name": "stdout",
          "text": [
            "Epoch 56/100 - Train Loss: 0.101492, Val Loss: 0.070187\n",
            "Model saved at epoch 56 with validation loss: 0.070187\n"
          ]
        },
        {
          "output_type": "stream",
          "name": "stderr",
          "text": [
            "Epoch 57/100 [Train]: 100%|██████████| 25/25 [00:00<00:00, 211.87it/s, loss=0.0687]\n",
            "Epoch 57/100 [Val]: 100%|██████████| 7/7 [00:00<00:00, 508.94it/s, loss=0.00609]\n"
          ]
        },
        {
          "output_type": "stream",
          "name": "stdout",
          "text": [
            "Epoch 57/100 - Train Loss: 0.093338, Val Loss: 0.070557\n"
          ]
        },
        {
          "output_type": "stream",
          "name": "stderr",
          "text": [
            "Epoch 58/100 [Train]: 100%|██████████| 25/25 [00:00<00:00, 198.49it/s, loss=0.0601]\n",
            "Epoch 58/100 [Val]: 100%|██████████| 7/7 [00:00<00:00, 505.91it/s, loss=0.00534]\n"
          ]
        },
        {
          "output_type": "stream",
          "name": "stdout",
          "text": [
            "Epoch 58/100 - Train Loss: 0.083845, Val Loss: 0.068176\n",
            "Model saved at epoch 58 with validation loss: 0.068176\n"
          ]
        },
        {
          "output_type": "stream",
          "name": "stderr",
          "text": [
            "Epoch 59/100 [Train]: 100%|██████████| 25/25 [00:00<00:00, 196.96it/s, loss=0.0701]\n",
            "Epoch 59/100 [Val]: 100%|██████████| 7/7 [00:00<00:00, 472.07it/s, loss=0.00794]\n"
          ]
        },
        {
          "output_type": "stream",
          "name": "stdout",
          "text": [
            "Epoch 59/100 - Train Loss: 0.080894, Val Loss: 0.067677\n",
            "Model saved at epoch 59 with validation loss: 0.067677\n"
          ]
        },
        {
          "output_type": "stream",
          "name": "stderr",
          "text": [
            "Epoch 60/100 [Train]: 100%|██████████| 25/25 [00:00<00:00, 184.18it/s, loss=0.071]\n",
            "Epoch 60/100 [Val]: 100%|██████████| 7/7 [00:00<00:00, 418.94it/s, loss=0.0093]\n"
          ]
        },
        {
          "output_type": "stream",
          "name": "stdout",
          "text": [
            "Epoch 60/100 - Train Loss: 0.081956, Val Loss: 0.066748\n",
            "Model saved at epoch 60 with validation loss: 0.066748\n"
          ]
        },
        {
          "output_type": "stream",
          "name": "stderr",
          "text": [
            "Epoch 61/100 [Train]: 100%|██████████| 25/25 [00:00<00:00, 205.86it/s, loss=0.0908]\n",
            "Epoch 61/100 [Val]: 100%|██████████| 7/7 [00:00<00:00, 282.23it/s, loss=0.00236]\n"
          ]
        },
        {
          "output_type": "stream",
          "name": "stdout",
          "text": [
            "Epoch 61/100 - Train Loss: 0.087762, Val Loss: 0.061199\n",
            "Model saved at epoch 61 with validation loss: 0.061199\n"
          ]
        },
        {
          "output_type": "stream",
          "name": "stderr",
          "text": [
            "Epoch 62/100 [Train]: 100%|██████████| 25/25 [00:00<00:00, 216.44it/s, loss=0.0512]\n",
            "Epoch 62/100 [Val]: 100%|██████████| 7/7 [00:00<00:00, 421.83it/s, loss=0.00805]\n"
          ]
        },
        {
          "output_type": "stream",
          "name": "stdout",
          "text": [
            "Epoch 62/100 - Train Loss: 0.083712, Val Loss: 0.062350\n"
          ]
        },
        {
          "output_type": "stream",
          "name": "stderr",
          "text": [
            "Epoch 63/100 [Train]: 100%|██████████| 25/25 [00:00<00:00, 185.43it/s, loss=0.206]\n",
            "Epoch 63/100 [Val]: 100%|██████████| 7/7 [00:00<00:00, 417.86it/s, loss=0.00833]\n"
          ]
        },
        {
          "output_type": "stream",
          "name": "stdout",
          "text": [
            "Epoch 63/100 - Train Loss: 0.084270, Val Loss: 0.060854\n",
            "Model saved at epoch 63 with validation loss: 0.060854\n"
          ]
        },
        {
          "output_type": "stream",
          "name": "stderr",
          "text": [
            "Epoch 64/100 [Train]: 100%|██████████| 25/25 [00:00<00:00, 190.24it/s, loss=0.068]\n",
            "Epoch 64/100 [Val]: 100%|██████████| 7/7 [00:00<00:00, 432.87it/s, loss=0.00428]\n"
          ]
        },
        {
          "output_type": "stream",
          "name": "stdout",
          "text": [
            "Epoch 64/100 - Train Loss: 0.073336, Val Loss: 0.057518\n",
            "Model saved at epoch 64 with validation loss: 0.057518\n"
          ]
        },
        {
          "output_type": "stream",
          "name": "stderr",
          "text": [
            "Epoch 65/100 [Train]: 100%|██████████| 25/25 [00:00<00:00, 201.38it/s, loss=0.0511]\n",
            "Epoch 65/100 [Val]: 100%|██████████| 7/7 [00:00<00:00, 456.14it/s, loss=0.00284]\n"
          ]
        },
        {
          "output_type": "stream",
          "name": "stdout",
          "text": [
            "Epoch 65/100 - Train Loss: 0.078684, Val Loss: 0.054882\n",
            "Model saved at epoch 65 with validation loss: 0.054882\n"
          ]
        },
        {
          "output_type": "stream",
          "name": "stderr",
          "text": [
            "Epoch 66/100 [Train]: 100%|██████████| 25/25 [00:00<00:00, 207.68it/s, loss=0.0736]\n",
            "Epoch 66/100 [Val]: 100%|██████████| 7/7 [00:00<00:00, 337.83it/s, loss=0.00635]\n"
          ]
        },
        {
          "output_type": "stream",
          "name": "stdout",
          "text": [
            "Epoch 66/100 - Train Loss: 0.089855, Val Loss: 0.055216\n"
          ]
        },
        {
          "output_type": "stream",
          "name": "stderr",
          "text": [
            "Epoch 67/100 [Train]: 100%|██████████| 25/25 [00:00<00:00, 194.66it/s, loss=0.0327]\n",
            "Epoch 67/100 [Val]: 100%|██████████| 7/7 [00:00<00:00, 272.92it/s, loss=0.00523]\n"
          ]
        },
        {
          "output_type": "stream",
          "name": "stdout",
          "text": [
            "Epoch 67/100 - Train Loss: 0.071274, Val Loss: 0.053585\n",
            "Model saved at epoch 67 with validation loss: 0.053585\n"
          ]
        },
        {
          "output_type": "stream",
          "name": "stderr",
          "text": [
            "Epoch 68/100 [Train]: 100%|██████████| 25/25 [00:00<00:00, 201.65it/s, loss=0.0529]\n",
            "Epoch 68/100 [Val]: 100%|██████████| 7/7 [00:00<00:00, 521.13it/s, loss=0.00261]\n"
          ]
        },
        {
          "output_type": "stream",
          "name": "stdout",
          "text": [
            "Epoch 68/100 - Train Loss: 0.069247, Val Loss: 0.050588\n",
            "Model saved at epoch 68 with validation loss: 0.050588\n"
          ]
        },
        {
          "output_type": "stream",
          "name": "stderr",
          "text": [
            "Epoch 69/100 [Train]: 100%|██████████| 25/25 [00:00<00:00, 209.15it/s, loss=0.057]\n",
            "Epoch 69/100 [Val]: 100%|██████████| 7/7 [00:00<00:00, 490.92it/s, loss=0.00457]\n"
          ]
        },
        {
          "output_type": "stream",
          "name": "stdout",
          "text": [
            "Epoch 69/100 - Train Loss: 0.074636, Val Loss: 0.050168\n",
            "Model saved at epoch 69 with validation loss: 0.050168\n"
          ]
        },
        {
          "output_type": "stream",
          "name": "stderr",
          "text": [
            "Epoch 70/100 [Train]: 100%|██████████| 25/25 [00:00<00:00, 178.12it/s, loss=0.0799]\n",
            "Epoch 70/100 [Val]: 100%|██████████| 7/7 [00:00<00:00, 378.64it/s, loss=0.00303]\n"
          ]
        },
        {
          "output_type": "stream",
          "name": "stdout",
          "text": [
            "Epoch 70/100 - Train Loss: 0.067386, Val Loss: 0.048617\n",
            "Model saved at epoch 70 with validation loss: 0.048617\n"
          ]
        },
        {
          "output_type": "stream",
          "name": "stderr",
          "text": [
            "Epoch 71/100 [Train]: 100%|██████████| 25/25 [00:00<00:00, 182.77it/s, loss=0.0395]\n",
            "Epoch 71/100 [Val]: 100%|██████████| 7/7 [00:00<00:00, 492.41it/s, loss=0.00329]\n"
          ]
        },
        {
          "output_type": "stream",
          "name": "stdout",
          "text": [
            "Epoch 71/100 - Train Loss: 0.061264, Val Loss: 0.047028\n",
            "Model saved at epoch 71 with validation loss: 0.047028\n"
          ]
        },
        {
          "output_type": "stream",
          "name": "stderr",
          "text": [
            "Epoch 72/100 [Train]: 100%|██████████| 25/25 [00:00<00:00, 187.33it/s, loss=0.0771]\n",
            "Epoch 72/100 [Val]: 100%|██████████| 7/7 [00:00<00:00, 491.98it/s, loss=0.00159]\n"
          ]
        },
        {
          "output_type": "stream",
          "name": "stdout",
          "text": [
            "Epoch 72/100 - Train Loss: 0.100474, Val Loss: 0.046242\n",
            "Model saved at epoch 72 with validation loss: 0.046242\n"
          ]
        },
        {
          "output_type": "stream",
          "name": "stderr",
          "text": [
            "Epoch 73/100 [Train]: 100%|██████████| 25/25 [00:00<00:00, 190.52it/s, loss=0.0454]\n",
            "Epoch 73/100 [Val]: 100%|██████████| 7/7 [00:00<00:00, 376.58it/s, loss=0.000994]\n"
          ]
        },
        {
          "output_type": "stream",
          "name": "stdout",
          "text": [
            "Epoch 73/100 - Train Loss: 0.074857, Val Loss: 0.045605\n",
            "Model saved at epoch 73 with validation loss: 0.045605\n"
          ]
        },
        {
          "output_type": "stream",
          "name": "stderr",
          "text": [
            "Epoch 74/100 [Train]: 100%|██████████| 25/25 [00:00<00:00, 234.63it/s, loss=0.0597]\n",
            "Epoch 74/100 [Val]: 100%|██████████| 7/7 [00:00<00:00, 443.76it/s, loss=0.00654]\n"
          ]
        },
        {
          "output_type": "stream",
          "name": "stdout",
          "text": [
            "Epoch 74/100 - Train Loss: 0.071997, Val Loss: 0.046092\n"
          ]
        },
        {
          "output_type": "stream",
          "name": "stderr",
          "text": [
            "Epoch 75/100 [Train]: 100%|██████████| 25/25 [00:00<00:00, 185.74it/s, loss=0.0578]\n",
            "Epoch 75/100 [Val]: 100%|██████████| 7/7 [00:00<00:00, 518.88it/s, loss=0.0117]\n"
          ]
        },
        {
          "output_type": "stream",
          "name": "stdout",
          "text": [
            "Epoch 75/100 - Train Loss: 0.068564, Val Loss: 0.048065\n"
          ]
        },
        {
          "output_type": "stream",
          "name": "stderr",
          "text": [
            "Epoch 76/100 [Train]: 100%|██████████| 25/25 [00:00<00:00, 230.77it/s, loss=0.0494]\n",
            "Epoch 76/100 [Val]: 100%|██████████| 7/7 [00:00<00:00, 519.63it/s, loss=0.000744]\n"
          ]
        },
        {
          "output_type": "stream",
          "name": "stdout",
          "text": [
            "Epoch 76/100 - Train Loss: 0.069325, Val Loss: 0.042231\n",
            "Model saved at epoch 76 with validation loss: 0.042231\n"
          ]
        },
        {
          "output_type": "stream",
          "name": "stderr",
          "text": [
            "Epoch 77/100 [Train]: 100%|██████████| 25/25 [00:00<00:00, 212.88it/s, loss=0.051]\n",
            "Epoch 77/100 [Val]: 100%|██████████| 7/7 [00:00<00:00, 430.99it/s, loss=0.00235]\n"
          ]
        },
        {
          "output_type": "stream",
          "name": "stdout",
          "text": [
            "Epoch 77/100 - Train Loss: 0.069977, Val Loss: 0.043279\n"
          ]
        },
        {
          "output_type": "stream",
          "name": "stderr",
          "text": [
            "Epoch 78/100 [Train]: 100%|██████████| 25/25 [00:00<00:00, 227.92it/s, loss=0.19]\n",
            "Epoch 78/100 [Val]: 100%|██████████| 7/7 [00:00<00:00, 440.14it/s, loss=0.0122]\n"
          ]
        },
        {
          "output_type": "stream",
          "name": "stdout",
          "text": [
            "Epoch 78/100 - Train Loss: 0.079098, Val Loss: 0.045931\n"
          ]
        },
        {
          "output_type": "stream",
          "name": "stderr",
          "text": [
            "Epoch 79/100 [Train]: 100%|██████████| 25/25 [00:00<00:00, 187.82it/s, loss=0.0405]\n",
            "Epoch 79/100 [Val]: 100%|██████████| 7/7 [00:00<00:00, 448.29it/s, loss=0.0118]\n"
          ]
        },
        {
          "output_type": "stream",
          "name": "stdout",
          "text": [
            "Epoch 79/100 - Train Loss: 0.073302, Val Loss: 0.045087\n"
          ]
        },
        {
          "output_type": "stream",
          "name": "stderr",
          "text": [
            "Epoch 80/100 [Train]: 100%|██████████| 25/25 [00:00<00:00, 223.13it/s, loss=0.0364]\n",
            "Epoch 80/100 [Val]: 100%|██████████| 7/7 [00:00<00:00, 524.17it/s, loss=0.000414]\n"
          ]
        },
        {
          "output_type": "stream",
          "name": "stdout",
          "text": [
            "Epoch 80/100 - Train Loss: 0.073611, Val Loss: 0.038193\n",
            "Model saved at epoch 80 with validation loss: 0.038193\n"
          ]
        },
        {
          "output_type": "stream",
          "name": "stderr",
          "text": [
            "Epoch 81/100 [Train]: 100%|██████████| 25/25 [00:00<00:00, 190.93it/s, loss=0.0331]\n",
            "Epoch 81/100 [Val]: 100%|██████████| 7/7 [00:00<00:00, 423.71it/s, loss=0.00287]\n"
          ]
        },
        {
          "output_type": "stream",
          "name": "stdout",
          "text": [
            "Epoch 81/100 - Train Loss: 0.062723, Val Loss: 0.038497\n"
          ]
        },
        {
          "output_type": "stream",
          "name": "stderr",
          "text": [
            "Epoch 82/100 [Train]: 100%|██████████| 25/25 [00:00<00:00, 223.32it/s, loss=0.0898]\n",
            "Epoch 82/100 [Val]: 100%|██████████| 7/7 [00:00<00:00, 522.88it/s, loss=0.00145]\n"
          ]
        },
        {
          "output_type": "stream",
          "name": "stdout",
          "text": [
            "Epoch 82/100 - Train Loss: 0.064685, Val Loss: 0.037016\n",
            "Model saved at epoch 82 with validation loss: 0.037016\n"
          ]
        },
        {
          "output_type": "stream",
          "name": "stderr",
          "text": [
            "Epoch 83/100 [Train]: 100%|██████████| 25/25 [00:00<00:00, 223.75it/s, loss=0.051]\n",
            "Epoch 83/100 [Val]: 100%|██████████| 7/7 [00:00<00:00, 430.24it/s, loss=0.00128]\n"
          ]
        },
        {
          "output_type": "stream",
          "name": "stdout",
          "text": [
            "Epoch 83/100 - Train Loss: 0.065211, Val Loss: 0.035962\n",
            "Model saved at epoch 83 with validation loss: 0.035962\n"
          ]
        },
        {
          "output_type": "stream",
          "name": "stderr",
          "text": [
            "Epoch 84/100 [Train]: 100%|██████████| 25/25 [00:00<00:00, 227.13it/s, loss=0.0386]\n",
            "Epoch 84/100 [Val]: 100%|██████████| 7/7 [00:00<00:00, 514.19it/s, loss=0.000501]\n"
          ]
        },
        {
          "output_type": "stream",
          "name": "stdout",
          "text": [
            "Epoch 84/100 - Train Loss: 0.066295, Val Loss: 0.035165\n",
            "Model saved at epoch 84 with validation loss: 0.035165\n"
          ]
        },
        {
          "output_type": "stream",
          "name": "stderr",
          "text": [
            "Epoch 85/100 [Train]: 100%|██████████| 25/25 [00:00<00:00, 166.06it/s, loss=0.0497]\n",
            "Epoch 85/100 [Val]: 100%|██████████| 7/7 [00:00<00:00, 435.09it/s, loss=0.00342]\n"
          ]
        },
        {
          "output_type": "stream",
          "name": "stdout",
          "text": [
            "Epoch 85/100 - Train Loss: 0.072817, Val Loss: 0.036045\n"
          ]
        },
        {
          "output_type": "stream",
          "name": "stderr",
          "text": [
            "Epoch 86/100 [Train]: 100%|██████████| 25/25 [00:00<00:00, 188.02it/s, loss=0.0412]\n",
            "Epoch 86/100 [Val]: 100%|██████████| 7/7 [00:00<00:00, 396.24it/s, loss=0.00128]\n"
          ]
        },
        {
          "output_type": "stream",
          "name": "stdout",
          "text": [
            "Epoch 86/100 - Train Loss: 0.078992, Val Loss: 0.033965\n",
            "Model saved at epoch 86 with validation loss: 0.033965\n"
          ]
        },
        {
          "output_type": "stream",
          "name": "stderr",
          "text": [
            "Epoch 87/100 [Train]: 100%|██████████| 25/25 [00:00<00:00, 209.85it/s, loss=0.034]\n",
            "Epoch 87/100 [Val]: 100%|██████████| 7/7 [00:00<00:00, 529.52it/s, loss=0.00107]\n"
          ]
        },
        {
          "output_type": "stream",
          "name": "stdout",
          "text": [
            "Epoch 87/100 - Train Loss: 0.062905, Val Loss: 0.033677\n",
            "Model saved at epoch 87 with validation loss: 0.033677\n"
          ]
        },
        {
          "output_type": "stream",
          "name": "stderr",
          "text": [
            "Epoch 88/100 [Train]: 100%|██████████| 25/25 [00:00<00:00, 218.44it/s, loss=0.0666]\n",
            "Epoch 88/100 [Val]: 100%|██████████| 7/7 [00:00<00:00, 359.24it/s, loss=0.0053]\n"
          ]
        },
        {
          "output_type": "stream",
          "name": "stdout",
          "text": [
            "Epoch 88/100 - Train Loss: 0.062050, Val Loss: 0.034950\n"
          ]
        },
        {
          "output_type": "stream",
          "name": "stderr",
          "text": [
            "Epoch 89/100 [Train]: 100%|██████████| 25/25 [00:00<00:00, 207.48it/s, loss=0.0534]\n",
            "Epoch 89/100 [Val]: 100%|██████████| 7/7 [00:00<00:00, 475.32it/s, loss=0.00101]\n"
          ]
        },
        {
          "output_type": "stream",
          "name": "stdout",
          "text": [
            "Epoch 89/100 - Train Loss: 0.057853, Val Loss: 0.032404\n",
            "Model saved at epoch 89 with validation loss: 0.032404\n"
          ]
        },
        {
          "output_type": "stream",
          "name": "stderr",
          "text": [
            "Epoch 90/100 [Train]: 100%|██████████| 25/25 [00:00<00:00, 208.00it/s, loss=0.0398]\n",
            "Epoch 90/100 [Val]: 100%|██████████| 7/7 [00:00<00:00, 473.53it/s, loss=0.00273]\n"
          ]
        },
        {
          "output_type": "stream",
          "name": "stdout",
          "text": [
            "Epoch 90/100 - Train Loss: 0.066154, Val Loss: 0.032511\n"
          ]
        },
        {
          "output_type": "stream",
          "name": "stderr",
          "text": [
            "Epoch 91/100 [Train]: 100%|██████████| 25/25 [00:00<00:00, 197.85it/s, loss=0.0402]\n",
            "Epoch 91/100 [Val]: 100%|██████████| 7/7 [00:00<00:00, 437.28it/s, loss=0.000361]\n"
          ]
        },
        {
          "output_type": "stream",
          "name": "stdout",
          "text": [
            "Epoch 91/100 - Train Loss: 0.068855, Val Loss: 0.030826\n",
            "Model saved at epoch 91 with validation loss: 0.030826\n"
          ]
        },
        {
          "output_type": "stream",
          "name": "stderr",
          "text": [
            "Epoch 92/100 [Train]: 100%|██████████| 25/25 [00:00<00:00, 227.99it/s, loss=0.0665]\n",
            "Epoch 92/100 [Val]: 100%|██████████| 7/7 [00:00<00:00, 564.43it/s, loss=0.00347]\n"
          ]
        },
        {
          "output_type": "stream",
          "name": "stdout",
          "text": [
            "Epoch 92/100 - Train Loss: 0.059091, Val Loss: 0.031998\n"
          ]
        },
        {
          "output_type": "stream",
          "name": "stderr",
          "text": [
            "Epoch 93/100 [Train]: 100%|██████████| 25/25 [00:00<00:00, 217.86it/s, loss=0.0857]\n",
            "Epoch 93/100 [Val]: 100%|██████████| 7/7 [00:00<00:00, 555.27it/s, loss=0.00549]\n"
          ]
        },
        {
          "output_type": "stream",
          "name": "stdout",
          "text": [
            "Epoch 93/100 - Train Loss: 0.073949, Val Loss: 0.032555\n"
          ]
        },
        {
          "output_type": "stream",
          "name": "stderr",
          "text": [
            "Epoch 94/100 [Train]: 100%|██████████| 25/25 [00:00<00:00, 205.28it/s, loss=0.0285]\n",
            "Epoch 94/100 [Val]: 100%|██████████| 7/7 [00:00<00:00, 397.74it/s, loss=0.00251]\n"
          ]
        },
        {
          "output_type": "stream",
          "name": "stdout",
          "text": [
            "Epoch 94/100 - Train Loss: 0.062743, Val Loss: 0.030297\n",
            "Model saved at epoch 94 with validation loss: 0.030297\n"
          ]
        },
        {
          "output_type": "stream",
          "name": "stderr",
          "text": [
            "Epoch 95/100 [Train]: 100%|██████████| 25/25 [00:00<00:00, 170.50it/s, loss=0.127]\n",
            "Epoch 95/100 [Val]: 100%|██████████| 7/7 [00:00<00:00, 335.32it/s, loss=0.00113]\n"
          ]
        },
        {
          "output_type": "stream",
          "name": "stdout",
          "text": [
            "Epoch 95/100 - Train Loss: 0.060093, Val Loss: 0.029403\n",
            "Model saved at epoch 95 with validation loss: 0.029403\n"
          ]
        },
        {
          "output_type": "stream",
          "name": "stderr",
          "text": [
            "Epoch 96/100 [Train]: 100%|██████████| 25/25 [00:00<00:00, 209.60it/s, loss=0.0328]\n",
            "Epoch 96/100 [Val]: 100%|██████████| 7/7 [00:00<00:00, 360.15it/s, loss=0.00388]\n"
          ]
        },
        {
          "output_type": "stream",
          "name": "stdout",
          "text": [
            "Epoch 96/100 - Train Loss: 0.051413, Val Loss: 0.030656\n"
          ]
        },
        {
          "output_type": "stream",
          "name": "stderr",
          "text": [
            "Epoch 97/100 [Train]: 100%|██████████| 25/25 [00:00<00:00, 220.23it/s, loss=0.0305]\n",
            "Epoch 97/100 [Val]: 100%|██████████| 7/7 [00:00<00:00, 516.50it/s, loss=0.0055]\n"
          ]
        },
        {
          "output_type": "stream",
          "name": "stdout",
          "text": [
            "Epoch 97/100 - Train Loss: 0.058376, Val Loss: 0.031478\n"
          ]
        },
        {
          "output_type": "stream",
          "name": "stderr",
          "text": [
            "Epoch 98/100 [Train]: 100%|██████████| 25/25 [00:00<00:00, 233.83it/s, loss=0.0395]\n",
            "Epoch 98/100 [Val]: 100%|██████████| 7/7 [00:00<00:00, 492.03it/s, loss=0.00215]\n"
          ]
        },
        {
          "output_type": "stream",
          "name": "stdout",
          "text": [
            "Epoch 98/100 - Train Loss: 0.055366, Val Loss: 0.029039\n",
            "Model saved at epoch 98 with validation loss: 0.029039\n"
          ]
        },
        {
          "output_type": "stream",
          "name": "stderr",
          "text": [
            "Epoch 99/100 [Train]: 100%|██████████| 25/25 [00:00<00:00, 235.85it/s, loss=0.0237]\n",
            "Epoch 99/100 [Val]: 100%|██████████| 7/7 [00:00<00:00, 516.34it/s, loss=0.00553]\n"
          ]
        },
        {
          "output_type": "stream",
          "name": "stdout",
          "text": [
            "Epoch 99/100 - Train Loss: 0.063904, Val Loss: 0.030911\n"
          ]
        },
        {
          "output_type": "stream",
          "name": "stderr",
          "text": [
            "Epoch 100/100 [Train]: 100%|██████████| 25/25 [00:00<00:00, 244.36it/s, loss=0.0205]\n",
            "Epoch 100/100 [Val]: 100%|██████████| 7/7 [00:00<00:00, 556.07it/s, loss=0.00274]\n",
            "<ipython-input-4-5584b39d44d1>:360: DeprecationWarning: DataFrameGroupBy.apply operated on the grouping columns. This behavior is deprecated, and in a future version of pandas the grouping columns will be excluded from the operation. Either pass `include_groups=False` to exclude the groupings or explicitly select the grouping columns after groupby to silence this warning.\n",
            "  resolution_by_energy = df.groupby('true_energy', as_index=False).apply(\n"
          ]
        },
        {
          "output_type": "stream",
          "name": "stdout",
          "text": [
            "Epoch 100/100 - Train Loss: 0.047412, Val Loss: 0.028879\n",
            "Model saved at epoch 100 with validation loss: 0.028879\n",
            "\n",
            "===== STEP 4: Model Evaluation =====\n",
            "Validation RMSE: 2.4435 GeV\n",
            "Validation MAE: 1.5598 GeV\n",
            "Validation MAPE: 7.01%\n",
            "\n",
            "===== STEP 5: Saving Model =====\n",
            "Model will be saved to: /content/drive/MyDrive/SDHCAL_Models/sdhcal_mlp_model.pkl\n",
            "Plots will be saved to: /content/drive/MyDrive/SDHCAL_Models/plots\n",
            "Saving model to Google Drive at: /content/drive/MyDrive/SDHCAL_Models/sdhcal_mlp_model.pkl\n",
            "Model saved to /content/drive/MyDrive/SDHCAL_Models/sdhcal_mlp_model.pkl\n",
            "PyTorch model saved to /content/drive/MyDrive/SDHCAL_Models/sdhcal_mlp_model_pytorch.pth\n",
            "\n",
            "Also creating local model file with download option...\n",
            "Model saved to sdhcal_local_model.pkl\n",
            "PyTorch model saved to sdhcal_local_model_pytorch.pth\n"
          ]
        },
        {
          "output_type": "display_data",
          "data": {
            "text/plain": [
              "<IPython.core.display.Javascript object>"
            ],
            "application/javascript": [
              "\n",
              "    async function download(id, filename, size) {\n",
              "      if (!google.colab.kernel.accessAllowed) {\n",
              "        return;\n",
              "      }\n",
              "      const div = document.createElement('div');\n",
              "      const label = document.createElement('label');\n",
              "      label.textContent = `Downloading \"${filename}\": `;\n",
              "      div.appendChild(label);\n",
              "      const progress = document.createElement('progress');\n",
              "      progress.max = size;\n",
              "      div.appendChild(progress);\n",
              "      document.body.appendChild(div);\n",
              "\n",
              "      const buffers = [];\n",
              "      let downloaded = 0;\n",
              "\n",
              "      const channel = await google.colab.kernel.comms.open(id);\n",
              "      // Send a message to notify the kernel that we're ready.\n",
              "      channel.send({})\n",
              "\n",
              "      for await (const message of channel.messages) {\n",
              "        // Send a message to notify the kernel that we're ready.\n",
              "        channel.send({})\n",
              "        if (message.buffers) {\n",
              "          for (const buffer of message.buffers) {\n",
              "            buffers.push(buffer);\n",
              "            downloaded += buffer.byteLength;\n",
              "            progress.value = downloaded;\n",
              "          }\n",
              "        }\n",
              "      }\n",
              "      const blob = new Blob(buffers, {type: 'application/binary'});\n",
              "      const a = document.createElement('a');\n",
              "      a.href = window.URL.createObjectURL(blob);\n",
              "      a.download = filename;\n",
              "      div.appendChild(a);\n",
              "      a.click();\n",
              "      div.remove();\n",
              "    }\n",
              "  "
            ]
          },
          "metadata": {}
        },
        {
          "output_type": "display_data",
          "data": {
            "text/plain": [
              "<IPython.core.display.Javascript object>"
            ],
            "application/javascript": [
              "download(\"download_1efcebc4-e7b9-4f46-86f7-1a61fcd61bae\", \"sdhcal_local_model.pkl\", 7715)"
            ]
          },
          "metadata": {}
        },
        {
          "output_type": "display_data",
          "data": {
            "text/plain": [
              "<IPython.core.display.Javascript object>"
            ],
            "application/javascript": [
              "\n",
              "    async function download(id, filename, size) {\n",
              "      if (!google.colab.kernel.accessAllowed) {\n",
              "        return;\n",
              "      }\n",
              "      const div = document.createElement('div');\n",
              "      const label = document.createElement('label');\n",
              "      label.textContent = `Downloading \"${filename}\": `;\n",
              "      div.appendChild(label);\n",
              "      const progress = document.createElement('progress');\n",
              "      progress.max = size;\n",
              "      div.appendChild(progress);\n",
              "      document.body.appendChild(div);\n",
              "\n",
              "      const buffers = [];\n",
              "      let downloaded = 0;\n",
              "\n",
              "      const channel = await google.colab.kernel.comms.open(id);\n",
              "      // Send a message to notify the kernel that we're ready.\n",
              "      channel.send({})\n",
              "\n",
              "      for await (const message of channel.messages) {\n",
              "        // Send a message to notify the kernel that we're ready.\n",
              "        channel.send({})\n",
              "        if (message.buffers) {\n",
              "          for (const buffer of message.buffers) {\n",
              "            buffers.push(buffer);\n",
              "            downloaded += buffer.byteLength;\n",
              "            progress.value = downloaded;\n",
              "          }\n",
              "        }\n",
              "      }\n",
              "      const blob = new Blob(buffers, {type: 'application/binary'});\n",
              "      const a = document.createElement('a');\n",
              "      a.href = window.URL.createObjectURL(blob);\n",
              "      a.download = filename;\n",
              "      div.appendChild(a);\n",
              "      a.click();\n",
              "      div.remove();\n",
              "    }\n",
              "  "
            ]
          },
          "metadata": {}
        },
        {
          "output_type": "display_data",
          "data": {
            "text/plain": [
              "<IPython.core.display.Javascript object>"
            ],
            "application/javascript": [
              "download(\"download_418e1295-f781-4e23-9894-0816e828e485\", \"sdhcal_local_model_pytorch.pth\", 5794)"
            ]
          },
          "metadata": {}
        },
        {
          "output_type": "stream",
          "name": "stdout",
          "text": [
            "Download links generated for model files.\n",
            "\n",
            "===== STEP 6: Generating Plots =====\n",
            "Plot saved to /content/drive/MyDrive/SDHCAL_Models/plots/training_history.png\n"
          ]
        },
        {
          "output_type": "display_data",
          "data": {
            "text/plain": [
              "<Figure size 1000x600 with 1 Axes>"
            ],
            "image/png": "[encoded data removed]"
          },
          "metadata": {}
        },
        {
          "output_type": "stream",
          "name": "stdout",
          "text": [
            "Resolution plot saved to /content/drive/MyDrive/SDHCAL_Models/plots/energy_resolution.png\n"
          ]
        },
        {
          "output_type": "display_data",
          "data": {
            "text/plain": [
              "<Figure size 1000x600 with 1 Axes>"
            ],
            "image/png": "[encoded data removed]"
          },
          "metadata": {}
        },
        {
          "output_type": "stream",
          "name": "stdout",
          "text": [
            "Linearity plot saved to /content/drive/MyDrive/SDHCAL_Models/plots/linearity.png\n"
          ]
        },
        {
          "output_type": "display_data",
          "data": {
            "text/plain": [
              "<Figure size 1000x800 with 1 Axes>"
            ],
            "image/png": "[encoded data removed]"
          },
          "metadata": {}
        },
        {
          "output_type": "stream",
          "name": "stdout",
          "text": [
            "Error distribution plot saved to /content/drive/MyDrive/SDHCAL_Models/plots/error_distribution.png\n"
          ]
        },
        {
          "output_type": "display_data",
          "data": {
            "text/plain": [
              "<Figure size 1000x600 with 1 Axes>"
            ],
            "image/png": "[encoded data removed]"
          },
          "metadata": {}
        },
        {
          "output_type": "stream",
          "name": "stdout",
          "text": [
            "\n",
            "===== STEP 7: Comparison with Traditional Method =====\n"
          ]
        },
        {
          "output_type": "stream",
          "name": "stderr",
          "text": [
            "<ipython-input-4-5584b39d44d1>:755: DeprecationWarning: DataFrameGroupBy.apply operated on the grouping columns. This behavior is deprecated, and in a future version of pandas the grouping columns will be excluded from the operation. Either pass `include_groups=False` to exclude the groupings or explicitly select the grouping columns after groupby to silence this warning.\n",
            "  mlp_resolution = df_mlp.groupby('true_energy', as_index=False).apply(\n",
            "<ipython-input-4-5584b39d44d1>:761: DeprecationWarning: DataFrameGroupBy.apply operated on the grouping columns. This behavior is deprecated, and in a future version of pandas the grouping columns will be excluded from the operation. Either pass `include_groups=False` to exclude the groupings or explicitly select the grouping columns after groupby to silence this warning.\n",
            "  trad_resolution = df_trad.groupby('true_energy', as_index=False).apply(\n"
          ]
        },
        {
          "output_type": "display_data",
          "data": {
            "text/plain": [
              "<Figure size 1200x800 with 1 Axes>"
            ],
            "image/png": "[encoded data removed]"
          },
          "metadata": {}
        },
        {
          "output_type": "stream",
          "name": "stdout",
          "text": [
            "MLP MSE: 5.9706, Traditional MSE: 29628.1542\n",
            "Improvement: 99.98%\n",
            "\n",
            "===== STEP 8: Example of Loading Model =====\n",
            "This is an example of code to use in a new session for loading the model:\n",
            "\n",
            "# 1. If in Google Colab, mount drive first:\n",
            "from google.colab import drive\n",
            "drive.mount('/content/drive')\n",
            "\n",
            "# 2. Import the SDHCALEnergyReconstruction class:\n",
            "# (Make sure the class definition is available in the current session)\n",
            "from sdhcal_energy_reconstruction import SDHCALEnergyReconstruction\n",
            "\n",
            "# 3. Load the model from Google Drive:\n",
            "model_path = '/content/drive/MyDrive/SDHCAL_Models/sdhcal_mlp_model.pkl'\n",
            "loaded_model = SDHCALEnergyReconstruction.load(model_path, load_from_drive=True)\n",
            "\n",
            "# 4. Now you can use the model for predictions:\n",
            "# features = ... # Your new data\n",
            "# predictions = loaded_model.predict(features)\n",
            "    \n",
            "\n",
            "===== STEP 9: Using the Model for Predictions =====\n",
            "Example predictions:\n",
            "   True Energy (GeV)          N1          N2          N3  \\\n",
            "0                 10  200.496714   99.812677   49.765263   \n",
            "1                 20  399.723471  199.625381  100.542560   \n",
            "2                 30  601.943066  303.790111  149.304873   \n",
            "3                 40  806.092119  402.455791  199.068540   \n",
            "\n",
            "   Predicted Energy (GeV)  Error (%)  \n",
            "0               11.118740  11.187401  \n",
            "1               20.563353   2.816763  \n",
            "2               30.460636   1.535454  \n",
            "3               43.454769   8.636923  \n",
            "\n",
            "===== Process Completed Successfully =====\n",
            "The SDHCAL energy reconstruction model has been trained and saved.\n",
            "You can now use it for energy prediction of new events.\n",
            "\n",
            "In Google Drive, you can find:\n",
            "- Model files in: /content/drive/MyDrive/SDHCAL_Models\n",
            "- Plot images in: /content/drive/MyDrive/SDHCAL_Models/plots\n",
            "\n",
            "To use the model in a new session, refer to Step 8 above.\n"
          ]
        }
      ],
      "source": [
        "import numpy as np\n",
        "import pandas as pd\n",
        "import matplotlib.pyplot as plt\n",
        "import seaborn as sns\n",
        "from sklearn.model_selection import train_test_split\n",
        "from sklearn.preprocessing import StandardScaler\n",
        "from sklearn.metrics import mean_squared_error, mean_absolute_error, mean_absolute_percentage_error\n",
        "import torch\n",
        "import torch.nn as nn\n",
        "import torch.optim as optim\n",
        "from torch.utils.data import DataLoader, TensorDataset\n",
        "import os\n",
        "from tqdm import tqdm\n",
        "import pickle\n",
        "import warnings\n",
        "\n",
        "# Suppress specific pandas warnings\n",
        "warnings.filterwarnings(\"ignore\", category=FutureWarning)\n",
        "\n",
        "# Check if running in Google Colab\n",
        "def is_colab():\n",
        "    try:\n",
        "        import google.colab\n",
        "        return True\n",
        "    except:\n",
        "        return False\n",
        "\n",
        "# For Google Colab: Mount Google Drive\n",
        "def mount_drive():\n",
        "    if is_colab():\n",
        "        from google.colab import drive\n",
        "        drive.mount('/content/drive')\n",
        "        print(\"Google Drive mounted successfully.\")\n",
        "        return True\n",
        "    else:\n",
        "        print(\"Not running in Google Colab. Drive mounting skipped.\")\n",
        "        return False\n",
        "\n",
        "# For Google Colab: Keep the runtime from disconnecting\n",
        "def prevent_colab_disconnect():\n",
        "    if is_colab():\n",
        "        from IPython.display import display, Javascript\n",
        "        display(Javascript('''\n",
        "        function ClickConnect(){\n",
        "          console.log(\"Clicking connect button\");\n",
        "          document.querySelector(\"colab-connect-button\").click()\n",
        "        }\n",
        "        setInterval(ClickConnect, 60000)\n",
        "        '''))\n",
        "        print(\"Disconnect prevention enabled.\")\n",
        "    else:\n",
        "        print(\"Not running in Google Colab. Disconnect prevention skipped.\")\n",
        "\n",
        "class SDHCALEnergyReconstruction:\n",
        "    \"\"\"\n",
        "    Class for energy reconstruction in Semi-Digital Hadronic Calorimeter (SDHCAL)\n",
        "    using a Multi-Layer Perceptron (MLP) neural network.\n",
        "\n",
        "    The MLP takes 3 input features (N₁, N₂, N₃) representing the hit counts in each threshold range\n",
        "    and predicts the energy of the incident particle.\n",
        "    \"\"\"\n",
        "\n",
        "    def __init__(self,\n",
        "                 learning_rate=0.001,\n",
        "                 batch_size=64,\n",
        "                 epochs=200,\n",
        "                 patience=20,\n",
        "                 model_save_path='best_model.pth',\n",
        "                 random_state=42):\n",
        "        \"\"\"\n",
        "        Initialize the SDHCAL Energy Reconstruction model.\n",
        "\n",
        "        Args:\n",
        "            learning_rate (float): Learning rate for the optimizer\n",
        "            batch_size (int): Batch size for training\n",
        "            epochs (int): Maximum number of training epochs\n",
        "            patience (int): Patience for early stopping\n",
        "            model_save_path (str): Path to save the best model\n",
        "            random_state (int): Random seed for reproducibility\n",
        "        \"\"\"\n",
        "        # Set random seeds for reproducibility\n",
        "        torch.manual_seed(random_state)\n",
        "        np.random.seed(random_state)\n",
        "\n",
        "        # Training parameters\n",
        "        self.learning_rate = learning_rate\n",
        "        self.batch_size = batch_size\n",
        "        self.epochs = epochs\n",
        "        self.patience = patience\n",
        "        self.model_save_path = model_save_path\n",
        "\n",
        "        # Initialize model, loss function, and performance tracking\n",
        "        self.model = None\n",
        "        self.criterion = nn.MSELoss()\n",
        "        self.train_losses = []\n",
        "        self.val_losses = []\n",
        "\n",
        "        # Initialize preprocessing components\n",
        "        self.feature_scaler = StandardScaler()\n",
        "        self.target_scaler = StandardScaler()\n",
        "\n",
        "        # Device setup (GPU if available)\n",
        "        self.device = torch.device('cuda' if torch.cuda.is_available() else 'cpu')\n",
        "        print(f\"Using device: {self.device}\")\n",
        "\n",
        "    def build_model(self):\n",
        "        \"\"\"\n",
        "        Build the MLP model architecture as described in the paper:\n",
        "        - Input layer: 3 neurons (for N₁, N₂, N₃)\n",
        "        - First hidden layer: 6 neurons with ReLU activation\n",
        "        - Second hidden layer: 2 neurons with ReLU activation\n",
        "        - Output layer: 1 neuron with linear activation\n",
        "        With batch normalization after each layer.\n",
        "        \"\"\"\n",
        "        model = nn.Sequential(\n",
        "            # Input layer\n",
        "            nn.Linear(3, 6),\n",
        "            nn.BatchNorm1d(6),\n",
        "            nn.ReLU(),\n",
        "\n",
        "            # First hidden layer\n",
        "            nn.Linear(6, 2),\n",
        "            nn.BatchNorm1d(2),\n",
        "            nn.ReLU(),\n",
        "\n",
        "            # Output layer\n",
        "            nn.Linear(2, 1)\n",
        "        )\n",
        "\n",
        "        self.model = model.to(self.device)\n",
        "        print(self.model)\n",
        "\n",
        "    def prepare_data(self, features, targets, test_size=0.2):\n",
        "        \"\"\"\n",
        "        Preprocess the data: standardize features and targets, and split into train/validation sets.\n",
        "\n",
        "        Args:\n",
        "            features (np.ndarray): Input features (N₁, N₂, N₃)\n",
        "            targets (np.ndarray): Target energies\n",
        "            test_size (float): Proportion of data to use for validation\n",
        "\n",
        "        Returns:\n",
        "            train_loader (DataLoader): DataLoader for training data\n",
        "            val_loader (DataLoader): DataLoader for validation data\n",
        "        \"\"\"\n",
        "        # Reshape targets if necessary\n",
        "        if len(targets.shape) == 1:\n",
        "            targets = targets.reshape(-1, 1)\n",
        "\n",
        "        # Split the data\n",
        "        X_train, X_val, y_train, y_val = train_test_split(\n",
        "            features, targets, test_size=test_size, random_state=42\n",
        "        )\n",
        "\n",
        "        # Standardize features\n",
        "        self.feature_scaler.fit(X_train)\n",
        "        X_train_scaled = self.feature_scaler.transform(X_train)\n",
        "        X_val_scaled = self.feature_scaler.transform(X_val)\n",
        "\n",
        "        # Standardize targets\n",
        "        self.target_scaler.fit(y_train)\n",
        "        y_train_scaled = self.target_scaler.transform(y_train)\n",
        "        y_val_scaled = self.target_scaler.transform(y_val)\n",
        "\n",
        "        # Convert to PyTorch tensors\n",
        "        X_train_tensor = torch.FloatTensor(X_train_scaled)\n",
        "        y_train_tensor = torch.FloatTensor(y_train_scaled)\n",
        "        X_val_tensor = torch.FloatTensor(X_val_scaled)\n",
        "        y_val_tensor = torch.FloatTensor(y_val_scaled)\n",
        "\n",
        "        # Create dataset and dataloader\n",
        "        train_dataset = TensorDataset(X_train_tensor, y_train_tensor)\n",
        "        val_dataset = TensorDataset(X_val_tensor, y_val_tensor)\n",
        "\n",
        "        train_loader = DataLoader(train_dataset, batch_size=self.batch_size, shuffle=True)\n",
        "        val_loader = DataLoader(val_dataset, batch_size=self.batch_size)\n",
        "\n",
        "        # Store original data for later evaluations\n",
        "        self.X_train, self.y_train = X_train, y_train\n",
        "        self.X_val, self.y_val = X_val, y_val\n",
        "\n",
        "        return train_loader, val_loader\n",
        "\n",
        "    def train(self, train_loader, val_loader):\n",
        "        \"\"\"\n",
        "        Train the model with early stopping and learning rate reduction.\n",
        "\n",
        "        Args:\n",
        "            train_loader (DataLoader): DataLoader for training data\n",
        "            val_loader (DataLoader): DataLoader for validation data\n",
        "\n",
        "        Returns:\n",
        "            history (dict): Training history\n",
        "        \"\"\"\n",
        "        # Initialize model if not already done\n",
        "        if self.model is None:\n",
        "            self.build_model()\n",
        "\n",
        "        # Optimizer and learning rate scheduler\n",
        "        optimizer = optim.Adam(self.model.parameters(), lr=self.learning_rate)\n",
        "        scheduler = optim.lr_scheduler.ReduceLROnPlateau(\n",
        "            optimizer, mode='min', factor=0.5, patience=10, verbose=True\n",
        "        )\n",
        "\n",
        "        # Early stopping variables\n",
        "        best_val_loss = float('inf')\n",
        "        patience_counter = 0\n",
        "\n",
        "        # Training history\n",
        "        self.train_losses = []\n",
        "        self.val_losses = []\n",
        "\n",
        "        # Training loop\n",
        "        for epoch in range(self.epochs):\n",
        "            # Training phase\n",
        "            self.model.train()\n",
        "            running_loss = 0.0\n",
        "            train_pbar = tqdm(train_loader, desc=f\"Epoch {epoch+1}/{self.epochs} [Train]\")\n",
        "\n",
        "            for inputs, targets in train_pbar:\n",
        "                inputs, targets = inputs.to(self.device), targets.to(self.device)\n",
        "\n",
        "                # Zero the gradients\n",
        "                optimizer.zero_grad()\n",
        "\n",
        "                # Forward pass\n",
        "                outputs = self.model(inputs)\n",
        "                loss = self.criterion(outputs, targets)\n",
        "\n",
        "                # Backward pass and optimize\n",
        "                loss.backward()\n",
        "                optimizer.step()\n",
        "\n",
        "                # Update running loss\n",
        "                running_loss += loss.item() * inputs.size(0)\n",
        "                train_pbar.set_postfix({\"loss\": loss.item()})\n",
        "\n",
        "            epoch_train_loss = running_loss / len(train_loader.dataset)\n",
        "            self.train_losses.append(epoch_train_loss)\n",
        "\n",
        "            # Validation phase\n",
        "            self.model.eval()\n",
        "            running_val_loss = 0.0\n",
        "\n",
        "            with torch.no_grad():\n",
        "                val_pbar = tqdm(val_loader, desc=f\"Epoch {epoch+1}/{self.epochs} [Val]\")\n",
        "\n",
        "                for inputs, targets in val_pbar:\n",
        "                    inputs, targets = inputs.to(self.device), targets.to(self.device)\n",
        "\n",
        "                    # Forward pass\n",
        "                    outputs = self.model(inputs)\n",
        "                    loss = self.criterion(outputs, targets)\n",
        "\n",
        "                    # Update running loss\n",
        "                    running_val_loss += loss.item() * inputs.size(0)\n",
        "                    val_pbar.set_postfix({\"loss\": loss.item()})\n",
        "\n",
        "            epoch_val_loss = running_val_loss / len(val_loader.dataset)\n",
        "            self.val_losses.append(epoch_val_loss)\n",
        "\n",
        "            # Print epoch results\n",
        "            print(f\"Epoch {epoch+1}/{self.epochs} - \"\n",
        "                  f\"Train Loss: {epoch_train_loss:.6f}, \"\n",
        "                  f\"Val Loss: {epoch_val_loss:.6f}\")\n",
        "\n",
        "            # Learning rate scheduler step\n",
        "            scheduler.step(epoch_val_loss)\n",
        "\n",
        "            # Early stopping and model checkpointing\n",
        "            if epoch_val_loss < best_val_loss:\n",
        "                best_val_loss = epoch_val_loss\n",
        "                patience_counter = 0\n",
        "\n",
        "                # Save the best model\n",
        "                torch.save(self.model.state_dict(), self.model_save_path)\n",
        "                print(f\"Model saved at epoch {epoch+1} with validation loss: {best_val_loss:.6f}\")\n",
        "            else:\n",
        "                patience_counter += 1\n",
        "                if patience_counter >= self.patience:\n",
        "                    print(f\"Early stopping at epoch {epoch+1}\")\n",
        "                    break\n",
        "\n",
        "        # Load the best model\n",
        "        self.model.load_state_dict(torch.load(self.model_save_path))\n",
        "\n",
        "        # Return training history\n",
        "        history = {\n",
        "            'train_loss': self.train_losses,\n",
        "            'val_loss': self.val_losses\n",
        "        }\n",
        "\n",
        "        return history\n",
        "\n",
        "    def predict(self, features):\n",
        "        \"\"\"\n",
        "        Make energy predictions using the trained model.\n",
        "\n",
        "        Args:\n",
        "            features (np.ndarray): Input features (N₁, N₂, N₃)\n",
        "\n",
        "        Returns:\n",
        "            predictions (np.ndarray): Predicted energies\n",
        "        \"\"\"\n",
        "        # Ensure model is in evaluation mode\n",
        "        self.model.eval()\n",
        "\n",
        "        # Standardize features\n",
        "        features_scaled = self.feature_scaler.transform(features)\n",
        "        features_tensor = torch.FloatTensor(features_scaled).to(self.device)\n",
        "\n",
        "        # Make predictions\n",
        "        with torch.no_grad():\n",
        "            predictions_scaled = self.model(features_tensor).cpu().numpy()\n",
        "\n",
        "        # Inverse transform to get actual energy values\n",
        "        predictions = self.target_scaler.inverse_transform(predictions_scaled)\n",
        "\n",
        "        return predictions\n",
        "\n",
        "    def evaluate(self, features, true_energies):\n",
        "        \"\"\"\n",
        "        Evaluate the model performance using various metrics.\n",
        "\n",
        "        Args:\n",
        "            features (np.ndarray): Input features\n",
        "            true_energies (np.ndarray): True energy values\n",
        "\n",
        "        Returns:\n",
        "            metrics (dict): Dictionary of evaluation metrics\n",
        "        \"\"\"\n",
        "        # Reshape true_energies if necessary\n",
        "        if len(true_energies.shape) == 1:\n",
        "            true_energies = true_energies.reshape(-1, 1)\n",
        "\n",
        "        # Get predictions\n",
        "        pred_energies = self.predict(features)\n",
        "\n",
        "        # Calculate metrics\n",
        "        mse = mean_squared_error(true_energies, pred_energies)\n",
        "        rmse = np.sqrt(mse)\n",
        "        mae = mean_absolute_error(true_energies, pred_energies)\n",
        "\n",
        "        # Calculate Mean Absolute Percentage Error manually to avoid division by zero\n",
        "        with np.errstate(divide='ignore', invalid='ignore'):\n",
        "            abs_percentage_errors = np.abs((true_energies - pred_energies) / true_energies) * 100\n",
        "            # Remove infinities and NaNs\n",
        "            abs_percentage_errors = abs_percentage_errors[~np.isinf(abs_percentage_errors)]\n",
        "            abs_percentage_errors = abs_percentage_errors[~np.isnan(abs_percentage_errors)]\n",
        "            mape = np.mean(abs_percentage_errors) if len(abs_percentage_errors) > 0 else 0\n",
        "\n",
        "        # Calculate energy resolution (standard deviation / mean)\n",
        "        # Group by true energy values and calculate resolution\n",
        "        df = pd.DataFrame({\n",
        "            'true_energy': true_energies.flatten(),\n",
        "            'pred_energy': pred_energies.flatten()\n",
        "        })\n",
        "\n",
        "        # Use include_groups=False to avoid the deprecated warning\n",
        "        resolution_by_energy = df.groupby('true_energy', as_index=False).apply(\n",
        "            lambda x: pd.Series({\n",
        "                'resolution': np.std(x['pred_energy']) / np.mean(x['pred_energy'])\n",
        "            })\n",
        "        )\n",
        "\n",
        "        # Metrics dictionary\n",
        "        metrics = {\n",
        "            'mse': mse,\n",
        "            'rmse': rmse,\n",
        "            'mae': mae,\n",
        "            'mape': mape,\n",
        "            'resolution_by_energy': resolution_by_energy\n",
        "        }\n",
        "\n",
        "        return metrics\n",
        "\n",
        "    def plot_training_history(self, save_plot=False, save_path=None):\n",
        "        \"\"\"\n",
        "        Plot the training and validation loss history.\n",
        "\n",
        "        Args:\n",
        "            save_plot (bool): Whether to save the plot to disk\n",
        "            save_path (str): Path to save the plot\n",
        "        \"\"\"\n",
        "        plt.figure(figsize=(10, 6))\n",
        "        plt.plot(self.train_losses, label='Training Loss')\n",
        "        plt.plot(self.val_losses, label='Validation Loss')\n",
        "        plt.xlabel('Epoch')\n",
        "        plt.ylabel('Loss (MSE)')\n",
        "        plt.title('Training History')\n",
        "        plt.legend()\n",
        "        plt.grid(True, linestyle='--', alpha=0.6)\n",
        "        plt.tight_layout()\n",
        "\n",
        "        # Save the plot if requested\n",
        "        if save_plot and save_path:\n",
        "            # Ensure directory exists\n",
        "            os.makedirs(os.path.dirname(os.path.abspath(save_path)), exist_ok=True)\n",
        "            plt.savefig(save_path)\n",
        "            print(f\"Plot saved to {save_path}\")\n",
        "\n",
        "        plt.show()\n",
        "\n",
        "    def plot_energy_resolution(self, metrics, save_plot=False, save_path=None):\n",
        "        \"\"\"\n",
        "        Plot the energy resolution as a function of true energy.\n",
        "\n",
        "        Args:\n",
        "            metrics (dict): Metrics dictionary from evaluate method\n",
        "            save_plot (bool): Whether to save the plot to disk\n",
        "            save_path (str): Path to save the plot\n",
        "        \"\"\"\n",
        "        resolution_df = metrics['resolution_by_energy']\n",
        "\n",
        "        plt.figure(figsize=(10, 6))\n",
        "        plt.scatter(resolution_df['true_energy'], resolution_df['resolution'], s=50, alpha=0.7)\n",
        "\n",
        "        # Fit a power-law curve (common for calorimeter resolution)\n",
        "        from scipy.optimize import curve_fit\n",
        "\n",
        "        def power_law(x, a, b):\n",
        "            return a / np.sqrt(x) + b\n",
        "\n",
        "        try:\n",
        "            popt, _ = curve_fit(\n",
        "                power_law,\n",
        "                resolution_df['true_energy'],\n",
        "                resolution_df['resolution'],\n",
        "                bounds=([0, -np.inf], [np.inf, np.inf])\n",
        "            )\n",
        "\n",
        "            x_smooth = np.linspace(\n",
        "                min(resolution_df['true_energy']),\n",
        "                max(resolution_df['true_energy']),\n",
        "                100\n",
        "            )\n",
        "            y_smooth = power_law(x_smooth, *popt)\n",
        "\n",
        "            plt.plot(\n",
        "                x_smooth,\n",
        "                y_smooth,\n",
        "                'r-',\n",
        "                label=f'Fit: {popt[0]:.3f}/√E + {popt[1]:.3f}'\n",
        "            )\n",
        "        except RuntimeError:\n",
        "            print(\"Warning: Could not fit power-law curve to resolution data\")\n",
        "\n",
        "        plt.xlabel('True Energy (GeV)')\n",
        "        plt.ylabel('Energy Resolution (σ/E)')\n",
        "        plt.title('Energy Resolution vs. True Energy')\n",
        "        plt.grid(True, linestyle='--', alpha=0.6)\n",
        "        plt.legend()\n",
        "        plt.tight_layout()\n",
        "\n",
        "        # Save the plot if requested\n",
        "        if save_plot and save_path:\n",
        "            # Ensure directory exists\n",
        "            os.makedirs(os.path.dirname(os.path.abspath(save_path)), exist_ok=True)\n",
        "            plt.savefig(save_path)\n",
        "            print(f\"Resolution plot saved to {save_path}\")\n",
        "\n",
        "        plt.show()\n",
        "\n",
        "    def plot_linearity(self, features, true_energies, save_plot=False, save_path=None):\n",
        "        \"\"\"\n",
        "        Plot the linearity of response (predicted vs. true energy).\n",
        "\n",
        "        Args:\n",
        "            features (np.ndarray): Input features\n",
        "            true_energies (np.ndarray): True energy values\n",
        "            save_plot (bool): Whether to save the plot to disk\n",
        "            save_path (str): Path to save the plot\n",
        "        \"\"\"\n",
        "        # Reshape true_energies if necessary\n",
        "        if len(true_energies.shape) == 1:\n",
        "            true_energies = true_energies.reshape(-1, 1)\n",
        "\n",
        "        # Get predictions\n",
        "        pred_energies = self.predict(features)\n",
        "\n",
        "        plt.figure(figsize=(10, 8))\n",
        "\n",
        "        # Scatter plot\n",
        "        plt.scatter(\n",
        "            true_energies,\n",
        "            pred_energies,\n",
        "            alpha=0.5,\n",
        "            label='Predictions'\n",
        "        )\n",
        "\n",
        "        # Perfect prediction line\n",
        "        max_energy = max(np.max(true_energies), np.max(pred_energies))\n",
        "        min_energy = min(np.min(true_energies), np.min(pred_energies))\n",
        "        plt.plot(\n",
        "            [min_energy, max_energy],\n",
        "            [min_energy, max_energy],\n",
        "            'r--',\n",
        "            label='Perfect Prediction'\n",
        "        )\n",
        "\n",
        "        # Linear fit\n",
        "        from sklearn.linear_model import LinearRegression\n",
        "\n",
        "        lr = LinearRegression()\n",
        "        lr.fit(true_energies, pred_energies)\n",
        "        linear_pred = lr.predict(true_energies.reshape(-1, 1))\n",
        "\n",
        "        # Safe extraction of coefficient and intercept\n",
        "        try:\n",
        "            # Convert coefficient to Python float\n",
        "            if hasattr(lr.coef_, 'ndim') and lr.coef_.ndim > 0:\n",
        "                coef_val = float(lr.coef_.flatten()[0])\n",
        "            else:\n",
        "                coef_val = float(lr.coef_)\n",
        "\n",
        "            # Convert intercept to Python float\n",
        "            if hasattr(lr.intercept_, '__iter__'):\n",
        "                intercept_val = float(lr.intercept_[0])\n",
        "            else:\n",
        "                intercept_val = float(lr.intercept_)\n",
        "\n",
        "            fit_label = f'Linear Fit: y = {coef_val:.3f}x + {intercept_val:.3f}'\n",
        "        except:\n",
        "            fit_label = 'Linear Fit'\n",
        "\n",
        "        plt.plot(\n",
        "            true_energies,\n",
        "            linear_pred,\n",
        "            'g-',\n",
        "            label=fit_label\n",
        "        )\n",
        "\n",
        "        plt.xlabel('True Energy (GeV)')\n",
        "        plt.ylabel('Reconstructed Energy (GeV)')\n",
        "        plt.title('Linearity of Energy Reconstruction')\n",
        "        plt.legend()\n",
        "        plt.grid(True, linestyle='--', alpha=0.6)\n",
        "        plt.tight_layout()\n",
        "\n",
        "        # Save the plot if requested\n",
        "        if save_plot and save_path:\n",
        "            # Ensure directory exists\n",
        "            os.makedirs(os.path.dirname(os.path.abspath(save_path)), exist_ok=True)\n",
        "            plt.savefig(save_path)\n",
        "            print(f\"Linearity plot saved to {save_path}\")\n",
        "\n",
        "        plt.show()\n",
        "\n",
        "    def plot_error_distribution(self, features, true_energies, save_plot=False, save_path=None):\n",
        "        \"\"\"\n",
        "        Plot the distribution of reconstruction errors.\n",
        "\n",
        "        Args:\n",
        "            features (np.ndarray): Input features\n",
        "            true_energies (np.ndarray): True energy values\n",
        "            save_plot (bool): Whether to save the plot to disk\n",
        "            save_path (str): Path to save the plot\n",
        "        \"\"\"\n",
        "        # Reshape true_energies if necessary\n",
        "        if len(true_energies.shape) == 1:\n",
        "            true_energies = true_energies.reshape(-1, 1)\n",
        "\n",
        "        # Get predictions\n",
        "        pred_energies = self.predict(features)\n",
        "\n",
        "        # Calculate relative errors (in percentage)\n",
        "        with np.errstate(divide='ignore', invalid='ignore'):\n",
        "            rel_errors = 100 * (pred_energies - true_energies) / true_energies\n",
        "            # Replace infinities and NaNs with 0\n",
        "            rel_errors = np.nan_to_num(rel_errors, nan=0.0, posinf=0.0, neginf=0.0)\n",
        "\n",
        "        plt.figure(figsize=(10, 6))\n",
        "\n",
        "        # Histogram of relative errors\n",
        "        sns.histplot(rel_errors.flatten(), bins=50, kde=True)\n",
        "\n",
        "        plt.xlabel('Relative Error (%)')\n",
        "        plt.ylabel('Frequency')\n",
        "        plt.title('Distribution of Reconstruction Errors')\n",
        "        plt.grid(True, linestyle='--', alpha=0.6)\n",
        "        plt.axvline(x=0, color='r', linestyle='--', alpha=0.7)\n",
        "\n",
        "        # Calculate statistics\n",
        "        mean_error = np.mean(rel_errors)\n",
        "        std_error = np.std(rel_errors)\n",
        "\n",
        "        plt.text(\n",
        "            0.7,\n",
        "            0.8,\n",
        "            f'Mean: {mean_error:.2f}%\\nStd: {std_error:.2f}%',\n",
        "            transform=plt.gca().transAxes,\n",
        "            bbox=dict(boxstyle=\"round,pad=0.3\", fc=\"white\", ec=\"gray\", alpha=0.8)\n",
        "        )\n",
        "\n",
        "        plt.tight_layout()\n",
        "\n",
        "        # Save the plot if requested\n",
        "        if save_plot and save_path:\n",
        "            # Ensure directory exists\n",
        "            os.makedirs(os.path.dirname(os.path.abspath(save_path)), exist_ok=True)\n",
        "            plt.savefig(save_path)\n",
        "            print(f\"Error distribution plot saved to {save_path}\")\n",
        "\n",
        "        plt.show()\n",
        "\n",
        "    def save(self, filepath='sdhcal_model.pkl', save_to_drive=False, drive_dir='/content/drive/MyDrive/SDHCAL_Models'):\n",
        "        \"\"\"\n",
        "        Save the complete model including preprocessing components.\n",
        "\n",
        "        Args:\n",
        "            filepath (str): Path to save the model\n",
        "            save_to_drive (bool): Whether to save to Google Drive (for Colab)\n",
        "            drive_dir (str): Directory on Google Drive to save the model to\n",
        "        \"\"\"\n",
        "        # If saving to Google Drive in Colab\n",
        "        if save_to_drive and is_colab():\n",
        "            # Create the directory if it doesn't exist\n",
        "            os.makedirs(drive_dir, exist_ok=True)\n",
        "\n",
        "            # Update the filepath to save to Google Drive\n",
        "            if not filepath.startswith('/content/drive'):\n",
        "                filepath = os.path.join(drive_dir, os.path.basename(filepath))\n",
        "\n",
        "            print(f\"Saving model to Google Drive at: {filepath}\")\n",
        "\n",
        "        # Create parent directory if it doesn't exist\n",
        "        os.makedirs(os.path.dirname(os.path.abspath(filepath)), exist_ok=True)\n",
        "\n",
        "        # Create a dictionary with all components\n",
        "        model_dict = {\n",
        "            'model_state_dict': self.model.state_dict(),\n",
        "            'feature_scaler': self.feature_scaler,\n",
        "            'target_scaler': self.target_scaler,\n",
        "            'train_losses': self.train_losses,\n",
        "            'val_losses': self.val_losses\n",
        "        }\n",
        "\n",
        "        # Save the model architecture parameters and PyTorch model separately\n",
        "        pytorch_path = filepath.replace('.pkl', '_pytorch.pth')\n",
        "        torch.save(self.model.state_dict(), pytorch_path)\n",
        "\n",
        "        # Save the rest using pickle\n",
        "        with open(filepath, 'wb') as f:\n",
        "            pickle.dump(model_dict, f)\n",
        "\n",
        "        print(f\"Model saved to {filepath}\")\n",
        "        print(f\"PyTorch model saved to {pytorch_path}\")\n",
        "\n",
        "        # For Google Colab, offer download option\n",
        "        if is_colab() and not save_to_drive:\n",
        "            try:\n",
        "                from google.colab import files\n",
        "                files.download(filepath)\n",
        "                files.download(pytorch_path)\n",
        "                print(\"Download links generated for model files.\")\n",
        "            except Exception as e:\n",
        "                print(f\"Could not generate download links: {e}\")\n",
        "\n",
        "    @classmethod\n",
        "    def load(cls, filepath='sdhcal_model.pkl', load_from_drive=False, drive_dir='/content/drive/MyDrive/SDHCAL_Models'):\n",
        "        \"\"\"\n",
        "        Load a saved model.\n",
        "\n",
        "        Args:\n",
        "            filepath (str): Path to the saved model\n",
        "            load_from_drive (bool): Whether to load from Google Drive (for Colab)\n",
        "            drive_dir (str): Directory on Google Drive to load the model from\n",
        "\n",
        "        Returns:\n",
        "            model (SDHCALEnergyReconstruction): Loaded model\n",
        "        \"\"\"\n",
        "        # If loading from Google Drive in Colab\n",
        "        if load_from_drive and is_colab():\n",
        "            # Mount drive if not already mounted\n",
        "            try:\n",
        "                from google.colab import drive\n",
        "                if not os.path.exists('/content/drive/MyDrive'):\n",
        "                    drive.mount('/content/drive')\n",
        "            except Exception as e:\n",
        "                print(f\"Error mounting Google Drive: {e}\")\n",
        "\n",
        "            # Update the filepath to load from Google Drive\n",
        "            if not filepath.startswith('/content/drive'):\n",
        "                filepath = os.path.join(drive_dir, os.path.basename(filepath))\n",
        "\n",
        "            print(f\"Loading model from Google Drive at: {filepath}\")\n",
        "\n",
        "        # Create a new instance\n",
        "        model = cls()\n",
        "\n",
        "        # Build the model architecture\n",
        "        model.build_model()\n",
        "\n",
        "        try:\n",
        "            # Load the pickle file\n",
        "            with open(filepath, 'rb') as f:\n",
        "                model_dict = pickle.load(f)\n",
        "\n",
        "            # Load PyTorch model state\n",
        "            model.model.load_state_dict(model_dict['model_state_dict'])\n",
        "\n",
        "            # Load other components\n",
        "            model.feature_scaler = model_dict['feature_scaler']\n",
        "            model.target_scaler = model_dict['target_scaler']\n",
        "            model.train_losses = model_dict['train_losses']\n",
        "            model.val_losses = model_dict['val_losses']\n",
        "\n",
        "            print(f\"Model loaded successfully from {filepath}\")\n",
        "            return model\n",
        "        except Exception as e:\n",
        "            print(f\"Error loading model: {e}\")\n",
        "            raise\n",
        "\n",
        "    def compare_with_traditional(self, features, true_energies, traditional_preds):\n",
        "        \"\"\"\n",
        "        Compare MLP model with traditional reconstruction methods.\n",
        "\n",
        "        Args:\n",
        "            features (np.ndarray): Input features\n",
        "            true_energies (np.ndarray): True energy values\n",
        "            traditional_preds (np.ndarray): Predictions from traditional method\n",
        "\n",
        "        Returns:\n",
        "            comparison (dict): Comparison metrics\n",
        "        \"\"\"\n",
        "        # Reshape arrays if necessary\n",
        "        if len(true_energies.shape) == 1:\n",
        "            true_energies = true_energies.reshape(-1, 1)\n",
        "\n",
        "        if len(traditional_preds.shape) == 1:\n",
        "            traditional_preds = traditional_preds.reshape(-1, 1)\n",
        "\n",
        "        # Get MLP predictions\n",
        "        mlp_preds = self.predict(features)\n",
        "\n",
        "        # Calculate metrics for both methods\n",
        "        mlp_mse = mean_squared_error(true_energies, mlp_preds)\n",
        "        trad_mse = mean_squared_error(true_energies, traditional_preds)\n",
        "\n",
        "        mlp_mae = mean_absolute_error(true_energies, mlp_preds)\n",
        "        trad_mae = mean_absolute_error(true_energies, traditional_preds)\n",
        "\n",
        "        # Calculate resolution for both methods\n",
        "        df_mlp = pd.DataFrame({\n",
        "            'true_energy': true_energies.flatten(),\n",
        "            'pred_energy': mlp_preds.flatten()\n",
        "        })\n",
        "\n",
        "        df_trad = pd.DataFrame({\n",
        "            'true_energy': true_energies.flatten(),\n",
        "            'pred_energy': traditional_preds.flatten()\n",
        "        })\n",
        "\n",
        "        # Use include_groups=False to avoid the deprecated warning\n",
        "        mlp_resolution = df_mlp.groupby('true_energy', as_index=False).apply(\n",
        "            lambda x: pd.Series({\n",
        "                'resolution': np.std(x['pred_energy']) / np.mean(x['pred_energy'])\n",
        "            })\n",
        "        )\n",
        "\n",
        "        trad_resolution = df_trad.groupby('true_energy', as_index=False).apply(\n",
        "            lambda x: pd.Series({\n",
        "                'resolution': np.std(x['pred_energy']) / np.mean(x['pred_energy'])\n",
        "            })\n",
        "        )\n",
        "\n",
        "        # Plot comparison\n",
        "        plt.figure(figsize=(12, 8))\n",
        "\n",
        "        plt.scatter(\n",
        "            mlp_resolution['true_energy'],\n",
        "            mlp_resolution['resolution'],\n",
        "            label='MLP Model',\n",
        "            marker='o',\n",
        "            s=50\n",
        "        )\n",
        "\n",
        "        plt.scatter(\n",
        "            trad_resolution['true_energy'],\n",
        "            trad_resolution['resolution'],\n",
        "            label='Traditional Method',\n",
        "            marker='x',\n",
        "            s=50\n",
        "        )\n",
        "\n",
        "        plt.xlabel('True Energy (GeV)')\n",
        "        plt.ylabel('Energy Resolution (σ/E)')\n",
        "        plt.title('Energy Resolution Comparison')\n",
        "        plt.legend()\n",
        "        plt.grid(True, linestyle='--', alpha=0.6)\n",
        "        plt.tight_layout()\n",
        "        plt.show()\n",
        "\n",
        "        # Comparison dictionary\n",
        "        comparison = {\n",
        "            'mlp_mse': mlp_mse,\n",
        "            'trad_mse': trad_mse,\n",
        "            'mlp_mae': mlp_mae,\n",
        "            'trad_mae': trad_mae,\n",
        "            'mlp_resolution': mlp_resolution,\n",
        "            'trad_resolution': trad_resolution\n",
        "        }\n",
        "\n",
        "        return comparison\n",
        "\n",
        "# Example usage\n",
        "if __name__ == \"__main__\":\n",
        "    # STEP 1: Google Colab-specific setup\n",
        "    print(\"\\n===== STEP 1: Google Colab Setup =====\")\n",
        "\n",
        "    # Check if running in Google Colab\n",
        "    IN_COLAB = is_colab()\n",
        "    print(f\"Running in Google Colab: {IN_COLAB}\")\n",
        "\n",
        "    if IN_COLAB:\n",
        "        # Mount Google Drive\n",
        "        mount_drive()\n",
        "\n",
        "        # Prevent disconnection\n",
        "        prevent_colab_disconnect()\n",
        "\n",
        "        # Check GPU availability\n",
        "        print(\"\\nChecking GPU availability:\")\n",
        "        import torch\n",
        "        print(f\"CUDA available: {torch.cuda.is_available()}\")\n",
        "        if torch.cuda.is_available():\n",
        "            print(f\"GPU device: {torch.cuda.get_device_name(0)}\")\n",
        "            # Display nvidia-smi output\n",
        "            try:\n",
        "                import subprocess\n",
        "                nvidia_smi = subprocess.check_output(['nvidia-smi']).decode('utf-8')\n",
        "                print(f\"\\nGPU information:\\n{nvidia_smi}\")\n",
        "            except:\n",
        "                print(\"Could not run nvidia-smi\")\n",
        "\n",
        "    # STEP 2: Generate or load data\n",
        "    print(\"\\n===== STEP 2: Data Preparation =====\")\n",
        "\n",
        "    # Simulate some data\n",
        "    np.random.seed(42)\n",
        "\n",
        "    # Generate sample data (for demonstration)\n",
        "    # In a real-world scenario, this would be loaded from a dataset\n",
        "\n",
        "    print(\"Generating sample SDHCAL data...\")\n",
        "\n",
        "    # True energies: 10 energies from 5 to 50 GeV, with 100 events each\n",
        "    true_energies = np.repeat(np.linspace(5, 50, 10), 100).reshape(-1, 1)\n",
        "    print(f\"True energy range: {true_energies.min().item():.1f} to {true_energies.max().item():.1f} GeV\")\n",
        "    print(f\"Number of events: {len(true_energies)}\")\n",
        "\n",
        "    # Simple model for hits vs energy (in real application, this would be actual data)\n",
        "    # N₁, N₂, N₃ are hit counts at three thresholds\n",
        "    # Add some noise to make it realistic\n",
        "    N1 = 20 * true_energies + np.random.normal(0, true_energies * 0.15, true_energies.shape)\n",
        "    N2 = 10 * true_energies + np.random.normal(0, true_energies * 0.1, true_energies.shape)\n",
        "    N3 = 5 * true_energies + np.random.normal(0, true_energies * 0.05, true_energies.shape)\n",
        "\n",
        "    # Combine features\n",
        "    features = np.hstack((N1, N2, N3))\n",
        "    print(f\"Feature shape: {features.shape} (N1, N2, N3)\")\n",
        "\n",
        "    # Display sample of the data\n",
        "    print(\"\\nSample data (first 5 events):\")\n",
        "    sample_df = pd.DataFrame(\n",
        "        np.hstack((features[:5], true_energies[:5])),\n",
        "        columns=['N1', 'N2', 'N3', 'Energy (GeV)']\n",
        "    )\n",
        "    print(sample_df)\n",
        "\n",
        "    # STEP 3: Create and train the model\n",
        "    print(\"\\n===== STEP 3: Model Training =====\")\n",
        "\n",
        "    # Create model with custom parameters\n",
        "    model = SDHCALEnergyReconstruction(\n",
        "        learning_rate=0.001,\n",
        "        batch_size=32,\n",
        "        epochs=100,  # Reduced for demonstration\n",
        "        patience=15\n",
        "    )\n",
        "\n",
        "    # Prepare data\n",
        "    train_loader, val_loader = model.prepare_data(features, true_energies, test_size=0.2)\n",
        "    print(f\"Training set size: {len(model.X_train)}\")\n",
        "    print(f\"Validation set size: {len(model.X_val)}\")\n",
        "\n",
        "    # Train the model\n",
        "    print(\"\\nStarting model training...\")\n",
        "    history = model.train(train_loader, val_loader)\n",
        "\n",
        "    # STEP 4: Evaluate model performance\n",
        "    print(\"\\n===== STEP 4: Model Evaluation =====\")\n",
        "\n",
        "    # Evaluate the model\n",
        "    metrics = model.evaluate(model.X_val, model.y_val)\n",
        "    print(f\"Validation RMSE: {metrics['rmse']:.4f} GeV\")\n",
        "    print(f\"Validation MAE: {metrics['mae']:.4f} GeV\")\n",
        "    print(f\"Validation MAPE: {metrics['mape']:.2f}%\")\n",
        "\n",
        "    # STEP 5: Save the model to Google Drive (if in Colab)\n",
        "    print(\"\\n===== STEP 5: Saving Model =====\")\n",
        "\n",
        "    # Create directories for saving model and plots\n",
        "    if IN_COLAB:\n",
        "        # Define paths for saving\n",
        "        drive_model_dir = '/content/drive/MyDrive/SDHCAL_Models'\n",
        "        model_path = os.path.join(drive_model_dir, 'sdhcal_mlp_model.pkl')\n",
        "        plots_dir = os.path.join(drive_model_dir, 'plots')\n",
        "\n",
        "        # Create directories\n",
        "        os.makedirs(drive_model_dir, exist_ok=True)\n",
        "        os.makedirs(plots_dir, exist_ok=True)\n",
        "\n",
        "        print(f\"Model will be saved to: {model_path}\")\n",
        "        print(f\"Plots will be saved to: {plots_dir}\")\n",
        "\n",
        "        # Save the model to Google Drive\n",
        "        model.save(filepath=model_path, save_to_drive=True)\n",
        "\n",
        "        # For comparison, also generate a local model and download option\n",
        "        print(\"\\nAlso creating local model file with download option...\")\n",
        "        model.save('sdhcal_local_model.pkl', save_to_drive=False)\n",
        "    else:\n",
        "        # If not in Colab, save locally\n",
        "        model.save('sdhcal_mlp_model.pkl')\n",
        "\n",
        "    # STEP 6: Generate and save plots\n",
        "    print(\"\\n===== STEP 6: Generating Plots =====\")\n",
        "\n",
        "    if IN_COLAB:\n",
        "        # Training history\n",
        "        history_path = os.path.join(plots_dir, 'training_history.png')\n",
        "        model.plot_training_history(save_plot=True, save_path=history_path)\n",
        "\n",
        "        # Energy resolution\n",
        "        resolution_path = os.path.join(plots_dir, 'energy_resolution.png')\n",
        "        model.plot_energy_resolution(metrics, save_plot=True, save_path=resolution_path)\n",
        "\n",
        "        # Linearity\n",
        "        linearity_path = os.path.join(plots_dir, 'linearity.png')\n",
        "        model.plot_linearity(model.X_val, model.y_val, save_plot=True, save_path=linearity_path)\n",
        "\n",
        "        # Error distribution\n",
        "        error_path = os.path.join(plots_dir, 'error_distribution.png')\n",
        "        model.plot_error_distribution(model.X_val, model.y_val, save_plot=True, save_path=error_path)\n",
        "    else:\n",
        "        # If not in Colab, just display the plots\n",
        "        model.plot_training_history()\n",
        "        model.plot_energy_resolution(metrics)\n",
        "        model.plot_linearity(model.X_val, model.y_val)\n",
        "        model.plot_error_distribution(model.X_val, model.y_val)\n",
        "\n",
        "    # STEP 7: Compare with traditional method\n",
        "    print(\"\\n===== STEP 7: Comparison with Traditional Method =====\")\n",
        "\n",
        "    # Example of traditional method (for comparison)\n",
        "    # Simple weighted sum: E = a*N₁ + b*N₂ + c*N₃\n",
        "    # (coefficients would typically be determined by calibration)\n",
        "    a, b, c = 0.1, 0.2, 0.5\n",
        "    traditional_preds = a * model.X_val[:, 0:1] + b * model.X_val[:, 1:2] + c * model.X_val[:, 2:3]\n",
        "\n",
        "    # Compare with traditional method\n",
        "    comparison = model.compare_with_traditional(model.X_val, model.y_val, traditional_preds)\n",
        "\n",
        "    print(f\"MLP MSE: {comparison['mlp_mse']:.4f}, Traditional MSE: {comparison['trad_mse']:.4f}\")\n",
        "    print(f\"Improvement: {(1 - comparison['mlp_mse']/comparison['trad_mse']) * 100:.2f}%\")\n",
        "\n",
        "    # STEP 8: Example of loading the model in a new session\n",
        "    print(\"\\n===== STEP 8: Example of Loading Model =====\")\n",
        "    print(\"This is an example of code to use in a new session for loading the model:\")\n",
        "\n",
        "    print(\"\"\"\n",
        "# 1. If in Google Colab, mount drive first:\n",
        "from google.colab import drive\n",
        "drive.mount('/content/drive')\n",
        "\n",
        "# 2. Import the SDHCALEnergyReconstruction class:\n",
        "# (Make sure the class definition is available in the current session)\n",
        "from sdhcal_energy_reconstruction import SDHCALEnergyReconstruction\n",
        "\n",
        "# 3. Load the model from Google Drive:\n",
        "model_path = '/content/drive/MyDrive/SDHCAL_Models/sdhcal_mlp_model.pkl'\n",
        "loaded_model = SDHCALEnergyReconstruction.load(model_path, load_from_drive=True)\n",
        "\n",
        "# 4. Now you can use the model for predictions:\n",
        "# features = ... # Your new data\n",
        "# predictions = loaded_model.predict(features)\n",
        "    \"\"\")\n",
        "\n",
        "    # STEP 9: Example of using the model for predictions\n",
        "    print(\"\\n===== STEP 9: Using the Model for Predictions =====\")\n",
        "\n",
        "    # Create some test data for prediction\n",
        "    test_energies = np.array([10, 20, 30, 40]).reshape(-1, 1)\n",
        "    test_N1 = 20 * test_energies + np.random.normal(0, test_energies * 0.1, test_energies.shape)\n",
        "    test_N2 = 10 * test_energies + np.random.normal(0, test_energies * 0.08, test_energies.shape)\n",
        "    test_N3 = 5 * test_energies + np.random.normal(0, test_energies * 0.05, test_energies.shape)\n",
        "    test_features = np.hstack((test_N1, test_N2, test_N3))\n",
        "\n",
        "    # Make predictions\n",
        "    predictions = model.predict(test_features)\n",
        "\n",
        "    # Display results\n",
        "    results_df = pd.DataFrame({\n",
        "        'True Energy (GeV)': test_energies.flatten(),\n",
        "        'N1': test_features[:, 0],\n",
        "        'N2': test_features[:, 1],\n",
        "        'N3': test_features[:, 2],\n",
        "        'Predicted Energy (GeV)': predictions.flatten(),\n",
        "        'Error (%)': 100 * (predictions.flatten() - test_energies.flatten()) / test_energies.flatten()\n",
        "    })\n",
        "\n",
        "    print(\"Example predictions:\")\n",
        "    print(results_df)\n",
        "\n",
        "    # STEP 10: Finish\n",
        "    print(\"\\n===== Process Completed Successfully =====\")\n",
        "    print(\"The SDHCAL energy reconstruction model has been trained and saved.\")\n",
        "    print(\"You can now use it for energy prediction of new events.\")\n",
        "\n",
        "    if IN_COLAB:\n",
        "        print(\"\\nIn Google Drive, you can find:\")\n",
        "        print(f\"- Model files in: {drive_model_dir}\")\n",
        "        print(f\"- Plot images in: {plots_dir}\")\n",
        "\n",
        "    print(\"\\nTo use the model in a new session, refer to Step 8 above.\")"
      ]
    },
    {
      "cell_type": "code",
      "source": [
        "# Simple function to save metrics and plots for SDHCAL model evaluation\n",
        "def export_model_results(model, metrics, comparison, output_dir=\"sdhcal_results\"):\n",
        "    \"\"\"Export model results as individual files for easy sharing\"\"\"\n",
        "    import os\n",
        "    import numpy as np\n",
        "    import pandas as pd\n",
        "    import matplotlib.pyplot as plt\n",
        "    import seaborn as sns\n",
        "    from scipy.optimize import curve_fit\n",
        "\n",
        "    # Create output directory\n",
        "    os.makedirs(output_dir, exist_ok=True)\n",
        "\n",
        "    # 1. Save summary metrics as text file\n",
        "    with open(os.path.join(output_dir, \"performance_summary.txt\"), \"w\") as f:\n",
        "        f.write(\"===== SDHCAL MODEL PERFORMANCE SUMMARY =====\\n\\n\")\n",
        "        f.write(\"Training Metrics:\\n\")\n",
        "        f.write(f\"Final Training Loss: {model.train_losses[-1]:.6f}\\n\")\n",
        "        f.write(f\"Final Validation Loss: {model.val_losses[-1]:.6f}\\n\\n\")\n",
        "\n",
        "        f.write(\"Test Performance:\\n\")\n",
        "        f.write(f\"RMSE: {metrics['rmse']:.4f} GeV\\n\")\n",
        "        f.write(f\"MAE: {metrics['mae']:.4f} GeV\\n\")\n",
        "        f.write(f\"MAPE: {metrics['mape']:.2f}%\\n\\n\")\n",
        "\n",
        "        f.write(\"Comparison with Traditional Method:\\n\")\n",
        "        f.write(f\"MLP MSE: {comparison['mlp_mse']:.4f}\\n\")\n",
        "        f.write(f\"Traditional MSE: {comparison['trad_mse']:.4f}\\n\")\n",
        "        f.write(f\"Improvement: {(1 - comparison['mlp_mse']/comparison['trad_mse']) * 100:.2f}%\\n\\n\")\n",
        "\n",
        "        # Try to extract resolution parameters\n",
        "        try:\n",
        "            def power_law(x, a, b):\n",
        "                return a / np.sqrt(x) + b\n",
        "\n",
        "            resolution_df = metrics['resolution_by_energy']\n",
        "            popt, _ = curve_fit(\n",
        "                power_law,\n",
        "                resolution_df['true_energy'],\n",
        "                resolution_df['resolution'],\n",
        "                bounds=([0, -np.inf], [np.inf, np.inf])\n",
        "            )\n",
        "            f.write(f\"Resolution: {popt[0]:.3f}/√E + {popt[1]:.3f}\\n\")\n",
        "        except Exception as e:\n",
        "            f.write(f\"Could not calculate resolution parameters: {e}\\n\")\n",
        "\n",
        "    # 2. Save training history plot\n",
        "    plt.figure(figsize=(10, 6))\n",
        "    plt.plot(model.train_losses, label='Training Loss')\n",
        "    plt.plot(model.val_losses, label='Validation Loss')\n",
        "    plt.xlabel('Epoch')\n",
        "    plt.ylabel('Loss (MSE)')\n",
        "    plt.title('Training History')\n",
        "    plt.legend()\n",
        "    plt.grid(True, linestyle='--', alpha=0.6)\n",
        "    plt.tight_layout()\n",
        "    plt.savefig(os.path.join(output_dir, \"training_history.png\"), dpi=300)\n",
        "    plt.close()\n",
        "\n",
        "    # 3. Save energy resolution plot\n",
        "    plt.figure(figsize=(10, 6))\n",
        "    resolution_df = metrics['resolution_by_energy']\n",
        "    plt.scatter(resolution_df['true_energy'], resolution_df['resolution'], s=50, alpha=0.7)\n",
        "\n",
        "    # Add power-law curve if possible\n",
        "    try:\n",
        "        x_smooth = np.linspace(\n",
        "            min(resolution_df['true_energy']),\n",
        "            max(resolution_df['true_energy']),\n",
        "            100\n",
        "        )\n",
        "        y_smooth = power_law(x_smooth, *popt)\n",
        "        plt.plot(\n",
        "            x_smooth,\n",
        "            y_smooth,\n",
        "            'r-',\n",
        "            label=f'Fit: {popt[0]:.3f}/√E + {popt[1]:.3f}'\n",
        "        )\n",
        "    except:\n",
        "        pass\n",
        "\n",
        "    plt.xlabel('True Energy (GeV)')\n",
        "    plt.ylabel('Energy Resolution (σ/E)')\n",
        "    plt.title('Energy Resolution vs. True Energy')\n",
        "    plt.grid(True, linestyle='--', alpha=0.6)\n",
        "    plt.legend()\n",
        "    plt.tight_layout()\n",
        "    plt.savefig(os.path.join(output_dir, \"energy_resolution.png\"), dpi=300)\n",
        "    plt.close()\n",
        "\n",
        "    # 4. Save linearity plot\n",
        "    plt.figure(figsize=(10, 8))\n",
        "    pred_energies = model.predict(model.X_val)\n",
        "    true_energies = model.y_val\n",
        "\n",
        "    plt.scatter(\n",
        "        true_energies,\n",
        "        pred_energies,\n",
        "        alpha=0.5,\n",
        "        label='Predictions'\n",
        "    )\n",
        "\n",
        "    # Perfect prediction line\n",
        "    max_energy = max(np.max(true_energies), np.max(pred_energies))\n",
        "    min_energy = min(np.min(true_energies), np.min(pred_energies))\n",
        "    plt.plot(\n",
        "        [min_energy, max_energy],\n",
        "        [min_energy, max_energy],\n",
        "        'r--',\n",
        "        label='Perfect Prediction'\n",
        "    )\n",
        "\n",
        "    plt.xlabel('True Energy (GeV)')\n",
        "    plt.ylabel('Reconstructed Energy (GeV)')\n",
        "    plt.title('Linearity of Energy Reconstruction')\n",
        "    plt.legend()\n",
        "    plt.grid(True, linestyle='--', alpha=0.6)\n",
        "    plt.tight_layout()\n",
        "    plt.savefig(os.path.join(output_dir, \"linearity.png\"), dpi=300)\n",
        "    plt.close()\n",
        "\n",
        "    # 5. Save error distribution\n",
        "    plt.figure(figsize=(10, 6))\n",
        "\n",
        "    # Calculate relative errors (in percentage)\n",
        "    with np.errstate(divide='ignore', invalid='ignore'):\n",
        "        rel_errors = 100 * (pred_energies - true_energies) / true_energies\n",
        "        # Replace infinities and NaNs with 0\n",
        "        rel_errors = np.nan_to_num(rel_errors, nan=0.0, posinf=0.0, neginf=0.0)\n",
        "\n",
        "    sns.histplot(rel_errors.flatten(), bins=50, kde=True)\n",
        "\n",
        "    plt.xlabel('Relative Error (%)')\n",
        "    plt.ylabel('Frequency')\n",
        "    plt.title('Distribution of Reconstruction Errors')\n",
        "    plt.grid(True, linestyle='--', alpha=0.6)\n",
        "    plt.axvline(x=0, color='r', linestyle='--', alpha=0.7)\n",
        "\n",
        "    mean_error = np.mean(rel_errors)\n",
        "    std_error = np.std(rel_errors)\n",
        "\n",
        "    plt.text(\n",
        "        0.7,\n",
        "        0.8,\n",
        "        f'Mean: {mean_error:.2f}%\\nStd: {std_error:.2f}%',\n",
        "        transform=plt.gca().transAxes,\n",
        "        bbox=dict(boxstyle=\"round,pad=0.3\", fc=\"white\", ec=\"gray\", alpha=0.8)\n",
        "    )\n",
        "\n",
        "    plt.tight_layout()\n",
        "    plt.savefig(os.path.join(output_dir, \"error_distribution.png\"), dpi=300)\n",
        "    plt.close()\n",
        "\n",
        "    # 6. Save resolution comparison\n",
        "    plt.figure(figsize=(10, 6))\n",
        "    plt.scatter(\n",
        "        comparison['mlp_resolution']['true_energy'],\n",
        "        comparison['mlp_resolution']['resolution'],\n",
        "        label='MLP Model',\n",
        "        marker='o',\n",
        "        s=50\n",
        "    )\n",
        "\n",
        "    plt.scatter(\n",
        "        comparison['trad_resolution']['true_energy'],\n",
        "        comparison['trad_resolution']['resolution'],\n",
        "        label='Traditional Method',\n",
        "        marker='x',\n",
        "        s=50\n",
        "    )\n",
        "\n",
        "    plt.xlabel('True Energy (GeV)')\n",
        "    plt.ylabel('Energy Resolution (σ/E)')\n",
        "    plt.title('Energy Resolution Comparison')\n",
        "    plt.legend()\n",
        "    plt.grid(True, linestyle='--', alpha=0.6)\n",
        "    plt.tight_layout()\n",
        "    plt.savefig(os.path.join(output_dir, \"resolution_comparison.png\"), dpi=300)\n",
        "    plt.close()\n",
        "\n",
        "    # For Google Colab, create a zip file and provide download link\n",
        "    if is_colab():\n",
        "        import shutil\n",
        "        zip_path = f\"{output_dir}.zip\"\n",
        "        shutil.make_archive(output_dir, 'zip', output_dir)\n",
        "\n",
        "        from google.colab import files\n",
        "        files.download(zip_path)\n",
        "\n",
        "        print(f\"Results saved and compressed as {zip_path}\")\n",
        "        print(\"Download link generated for the zip file.\")\n",
        "    else:\n",
        "        print(f\"Results saved to {output_dir} directory\")\n",
        "\n",
        "    # Also display performance summary in the notebook\n",
        "    print(\"\\n===== MODEL PERFORMANCE SUMMARY =====\")\n",
        "    print(f\"RMSE: {metrics['rmse']:.4f} GeV\")\n",
        "    print(f\"MAE: {metrics['mae']:.4f} GeV\")\n",
        "    print(f\"MAPE: {metrics['mape']:.2f}%\")\n",
        "    print(f\"MLP MSE: {comparison['mlp_mse']:.4f}, Traditional MSE: {comparison['trad_mse']:.4f}\")\n",
        "    print(f\"Improvement: {(1 - comparison['mlp_mse']/comparison['trad_mse']) * 100:.2f}%\")\n",
        "\n",
        "    try:\n",
        "        print(f\"Resolution: {popt[0]:.3f}/√E + {popt[1]:.3f}\")\n",
        "    except:\n",
        "        print(\"Could not calculate resolution parameters\")\n",
        "\n",
        "    return os.path.join(output_dir, \"performance_summary.txt\")\n",
        "\n",
        "# Call the function to generate results\n",
        "traditional_preds = 0.1 * model.X_val[:, 0:1] + 0.2 * model.X_val[:, 1:2] + 0.5 * model.X_val[:, 2:3]\n",
        "comparison = model.compare_with_traditional(model.X_val, model.y_val, traditional_preds)\n",
        "summary_file = export_model_results(model, metrics, comparison)\n",
        "\n",
        "# Display the summary file content\n",
        "with open(summary_file, 'r') as f:\n",
        "    print(f.read())"
      ],
      "metadata": {
        "colab": {
          "base_uri": "https://localhost:8080/",
          "height": 1000
        },
        "id": "vQYjW99CHFjb",
        "outputId": "88b9c926-bb45-4de6-abef-362fa6a0845a"
      },
      "execution_count": null,
      "outputs": [
        {
          "output_type": "stream",
          "name": "stderr",
          "text": [
            "<ipython-input-4-5584b39d44d1>:755: DeprecationWarning: DataFrameGroupBy.apply operated on the grouping columns. This behavior is deprecated, and in a future version of pandas the grouping columns will be excluded from the operation. Either pass `include_groups=False` to exclude the groupings or explicitly select the grouping columns after groupby to silence this warning.\n",
            "  mlp_resolution = df_mlp.groupby('true_energy', as_index=False).apply(\n",
            "<ipython-input-4-5584b39d44d1>:761: DeprecationWarning: DataFrameGroupBy.apply operated on the grouping columns. This behavior is deprecated, and in a future version of pandas the grouping columns will be excluded from the operation. Either pass `include_groups=False` to exclude the groupings or explicitly select the grouping columns after groupby to silence this warning.\n",
            "  trad_resolution = df_trad.groupby('true_energy', as_index=False).apply(\n"
          ]
        },
        {
          "output_type": "display_data",
          "data": {
            "text/plain": [
              "<Figure size 1200x800 with 1 Axes>"
            ],
            "image/png": "[encoded data removed]"
          },
          "metadata": {}
        },
        {
          "output_type": "display_data",
          "data": {
            "text/plain": [
              "<IPython.core.display.Javascript object>"
            ],
            "application/javascript": [
              "\n",
              "    async function download(id, filename, size) {\n",
              "      if (!google.colab.kernel.accessAllowed) {\n",
              "        return;\n",
              "      }\n",
              "      const div = document.createElement('div');\n",
              "      const label = document.createElement('label');\n",
              "      label.textContent = `Downloading \"${filename}\": `;\n",
              "      div.appendChild(label);\n",
              "      const progress = document.createElement('progress');\n",
              "      progress.max = size;\n",
              "      div.appendChild(progress);\n",
              "      document.body.appendChild(div);\n",
              "\n",
              "      const buffers = [];\n",
              "      let downloaded = 0;\n",
              "\n",
              "      const channel = await google.colab.kernel.comms.open(id);\n",
              "      // Send a message to notify the kernel that we're ready.\n",
              "      channel.send({})\n",
              "\n",
              "      for await (const message of channel.messages) {\n",
              "        // Send a message to notify the kernel that we're ready.\n",
              "        channel.send({})\n",
              "        if (message.buffers) {\n",
              "          for (const buffer of message.buffers) {\n",
              "            buffers.push(buffer);\n",
              "            downloaded += buffer.byteLength;\n",
              "            progress.value = downloaded;\n",
              "          }\n",
              "        }\n",
              "      }\n",
              "      const blob = new Blob(buffers, {type: 'application/binary'});\n",
              "      const a = document.createElement('a');\n",
              "      a.href = window.URL.createObjectURL(blob);\n",
              "      a.download = filename;\n",
              "      div.appendChild(a);\n",
              "      a.click();\n",
              "      div.remove();\n",
              "    }\n",
              "  "
            ]
          },
          "metadata": {}
        },
        {
          "output_type": "display_data",
          "data": {
            "text/plain": [
              "<IPython.core.display.Javascript object>"
            ],
            "application/javascript": [
              "download(\"download_f09691c0-6bfb-46df-95a7-c9e9aae9a4d1\", \"sdhcal_results.zip\", 684742)"
            ]
          },
          "metadata": {}
        },
        {
          "output_type": "stream",
          "name": "stdout",
          "text": [
            "Results saved and compressed as sdhcal_results.zip\n",
            "Download link generated for the zip file.\n",
            "\n",
            "===== MODEL PERFORMANCE SUMMARY =====\n",
            "RMSE: 2.4435 GeV\n",
            "MAE: 1.5598 GeV\n",
            "MAPE: 7.01%\n",
            "MLP MSE: 5.9706, Traditional MSE: 29628.1542\n",
            "Improvement: 99.98%\n",
            "Resolution: 0.040/√E + -0.000\n",
            "===== SDHCAL MODEL PERFORMANCE SUMMARY =====\n",
            "\n",
            "Training Metrics:\n",
            "Final Training Loss: 0.047412\n",
            "Final Validation Loss: 0.028879\n",
            "\n",
            "Test Performance:\n",
            "RMSE: 2.4435 GeV\n",
            "MAE: 1.5598 GeV\n",
            "MAPE: 7.01%\n",
            "\n",
            "Comparison with Traditional Method:\n",
            "MLP MSE: 5.9706\n",
            "Traditional MSE: 29628.1542\n",
            "Improvement: 99.98%\n",
            "\n",
            "Resolution: 0.040/√E + -0.000\n",
            "\n"
          ]
        }
      ]
    }
  ]
}